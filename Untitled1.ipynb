{
 "cells": [
  {
   "cell_type": "code",
   "execution_count": 11,
   "id": "8d31af8c-35e7-41e0-b042-8d7f16092c84",
   "metadata": {},
   "outputs": [
    {
     "name": "stdout",
     "output_type": "stream",
     "text": [
      "Requirement already satisfied: torch==2.3.0 in d:\\the_fifth_column\\the_fifth_column\\main\\venv\\lib\\site-packages (2.3.0)\n",
      "Requirement already satisfied: filelock in d:\\the_fifth_column\\the_fifth_column\\main\\venv\\lib\\site-packages (from torch==2.3.0) (3.14.0)\n",
      "Requirement already satisfied: typing-extensions>=4.8.0 in d:\\the_fifth_column\\the_fifth_column\\main\\venv\\lib\\site-packages (from torch==2.3.0) (4.11.0)\n",
      "Requirement already satisfied: sympy in d:\\the_fifth_column\\the_fifth_column\\main\\venv\\lib\\site-packages (from torch==2.3.0) (1.12)\n",
      "Requirement already satisfied: networkx in d:\\the_fifth_column\\the_fifth_column\\main\\venv\\lib\\site-packages (from torch==2.3.0) (3.3)\n",
      "Requirement already satisfied: jinja2 in d:\\the_fifth_column\\the_fifth_column\\main\\venv\\lib\\site-packages (from torch==2.3.0) (3.1.4)\n",
      "Requirement already satisfied: fsspec in d:\\the_fifth_column\\the_fifth_column\\main\\venv\\lib\\site-packages (from torch==2.3.0) (2024.3.1)\n",
      "Requirement already satisfied: mkl<=2021.4.0,>=2021.1.1 in d:\\the_fifth_column\\the_fifth_column\\main\\venv\\lib\\site-packages (from torch==2.3.0) (2021.4.0)\n",
      "Requirement already satisfied: intel-openmp==2021.* in d:\\the_fifth_column\\the_fifth_column\\main\\venv\\lib\\site-packages (from mkl<=2021.4.0,>=2021.1.1->torch==2.3.0) (2021.4.0)\n",
      "Requirement already satisfied: tbb==2021.* in d:\\the_fifth_column\\the_fifth_column\\main\\venv\\lib\\site-packages (from mkl<=2021.4.0,>=2021.1.1->torch==2.3.0) (2021.12.0)\n",
      "Requirement already satisfied: MarkupSafe>=2.0 in d:\\the_fifth_column\\the_fifth_column\\main\\venv\\lib\\site-packages (from jinja2->torch==2.3.0) (2.1.5)\n",
      "Requirement already satisfied: mpmath>=0.19 in d:\\the_fifth_column\\the_fifth_column\\main\\venv\\lib\\site-packages (from sympy->torch==2.3.0) (1.3.0)\n"
     ]
    }
   ],
   "source": [
    "!pip install \"torch == 2.3.0\""
   ]
  },
  {
   "cell_type": "code",
   "execution_count": 12,
   "id": "239cb2bc-a12a-4a7e-b410-2d50d8e3faa0",
   "metadata": {},
   "outputs": [],
   "source": [
    "import torch\n",
    "from torch.utils.data import TensorDataset, DataLoader, RandomSampler, SequentialSampler"
   ]
  },
  {
   "cell_type": "code",
   "execution_count": 13,
   "id": "cb8af2cb-54c6-4d43-a2be-752ec5e5200e",
   "metadata": {},
   "outputs": [
    {
     "name": "stdout",
     "output_type": "stream",
     "text": [
      "No GPU available, using the CPU instead.\n"
     ]
    }
   ],
   "source": [
    "import torch\n",
    "# check if we have cuda installed\n",
    "if torch.cuda.is_available():\n",
    "    # to use GPU\n",
    "    device = torch.device(\"cuda\")\n",
    "    print('There are %d GPU(s) available.' % torch.cuda.device_count())\n",
    "    print('GPU is:', torch.cuda.get_device_name(0))\n",
    "else:\n",
    "    print('No GPU available, using the CPU instead.')\n",
    "    device = torch.device(\"cpu\")"
   ]
  },
  {
   "cell_type": "code",
   "execution_count": 14,
   "id": "71f67c5f-af2b-4dd6-a568-79a34b1aa196",
   "metadata": {},
   "outputs": [
    {
     "name": "stdout",
     "output_type": "stream",
     "text": [
      "Requirement already satisfied: pandas in d:\\the_fifth_column\\the_fifth_column\\main\\venv\\lib\\site-packages (2.2.2)\n",
      "Requirement already satisfied: numpy>=1.22.4 in d:\\the_fifth_column\\the_fifth_column\\main\\venv\\lib\\site-packages (from pandas) (1.26.4)\n",
      "Requirement already satisfied: python-dateutil>=2.8.2 in d:\\the_fifth_column\\the_fifth_column\\main\\venv\\lib\\site-packages (from pandas) (2.9.0.post0)\n",
      "Requirement already satisfied: pytz>=2020.1 in d:\\the_fifth_column\\the_fifth_column\\main\\venv\\lib\\site-packages (from pandas) (2024.1)\n",
      "Requirement already satisfied: tzdata>=2022.7 in d:\\the_fifth_column\\the_fifth_column\\main\\venv\\lib\\site-packages (from pandas) (2024.1)\n",
      "Requirement already satisfied: six>=1.5 in d:\\the_fifth_column\\the_fifth_column\\main\\venv\\lib\\site-packages (from python-dateutil>=2.8.2->pandas) (1.16.0)\n"
     ]
    }
   ],
   "source": [
    "!pip install pandas "
   ]
  },
  {
   "cell_type": "code",
   "execution_count": 15,
   "id": "4691b3d3-7822-4fd4-aa6e-7e3734db2b45",
   "metadata": {},
   "outputs": [
    {
     "data": {
      "text/html": [
       "<div>\n",
       "<style scoped>\n",
       "    .dataframe tbody tr th:only-of-type {\n",
       "        vertical-align: middle;\n",
       "    }\n",
       "\n",
       "    .dataframe tbody tr th {\n",
       "        vertical-align: top;\n",
       "    }\n",
       "\n",
       "    .dataframe thead th {\n",
       "        text-align: right;\n",
       "    }\n",
       "</style>\n",
       "<table border=\"1\" class=\"dataframe\">\n",
       "  <thead>\n",
       "    <tr style=\"text-align: right;\">\n",
       "      <th></th>\n",
       "      <th>Id</th>\n",
       "      <th>User</th>\n",
       "      <th>Lang</th>\n",
       "      <th>Comment</th>\n",
       "      <th>Flag</th>\n",
       "      <th>Post author</th>\n",
       "    </tr>\n",
       "  </thead>\n",
       "  <tbody>\n",
       "    <tr>\n",
       "      <th>0</th>\n",
       "      <td>1</td>\n",
       "      <td>Žilvinas Ramonas</td>\n",
       "      <td>LT</td>\n",
       "      <td>Kada ateis toki valdze kai tuos kenkejus gales...</td>\n",
       "      <td>1</td>\n",
       "      <td>https://www.facebook.com/RemigijusZemaitaitis1</td>\n",
       "    </tr>\n",
       "    <tr>\n",
       "      <th>1</th>\n",
       "      <td>2</td>\n",
       "      <td>Regina Sakalauskienė</td>\n",
       "      <td>LT</td>\n",
       "      <td>Lietuvoje teisėsaugos nėra- viską lemia piniga...</td>\n",
       "      <td>1</td>\n",
       "      <td>https://www.facebook.com/RemigijusZemaitaitis1</td>\n",
       "    </tr>\n",
       "    <tr>\n",
       "      <th>2</th>\n",
       "      <td>3</td>\n",
       "      <td>Alma Kecioglu</td>\n",
       "      <td>LT</td>\n",
       "      <td>Net liüdna kad Lt gelezine diktatüra ir baisu ...</td>\n",
       "      <td>1</td>\n",
       "      <td>https://www.facebook.com/RemigijusZemaitaitis1</td>\n",
       "    </tr>\n",
       "    <tr>\n",
       "      <th>3</th>\n",
       "      <td>4</td>\n",
       "      <td>Zilvinas Zilvinas</td>\n",
       "      <td>LT</td>\n",
       "      <td>Suklastojo parašus,klastos rinkimus,kitaip kon...</td>\n",
       "      <td>1</td>\n",
       "      <td>Remigijus Žemaitaitis | Facebook</td>\n",
       "    </tr>\n",
       "    <tr>\n",
       "      <th>4</th>\n",
       "      <td>5</td>\n",
       "      <td>Arnoldas Plus</td>\n",
       "      <td>LT</td>\n",
       "      <td>Išvaizda išduoda kad Ingrid Šymon nėra lietuvė...</td>\n",
       "      <td>1</td>\n",
       "      <td>Remigijus Žemaitaitis | Facebook</td>\n",
       "    </tr>\n",
       "  </tbody>\n",
       "</table>\n",
       "</div>"
      ],
      "text/plain": [
       "   Id                  User Lang  \\\n",
       "0   1      Žilvinas Ramonas   LT   \n",
       "1   2  Regina Sakalauskienė   LT   \n",
       "2   3         Alma Kecioglu   LT   \n",
       "3   4     Zilvinas Zilvinas   LT   \n",
       "4   5         Arnoldas Plus   LT   \n",
       "\n",
       "                                             Comment  Flag  \\\n",
       "0  Kada ateis toki valdze kai tuos kenkejus gales...     1   \n",
       "1  Lietuvoje teisėsaugos nėra- viską lemia piniga...     1   \n",
       "2  Net liüdna kad Lt gelezine diktatüra ir baisu ...     1   \n",
       "3  Suklastojo parašus,klastos rinkimus,kitaip kon...     1   \n",
       "4  Išvaizda išduoda kad Ingrid Šymon nėra lietuvė...     1   \n",
       "\n",
       "                                      Post author  \n",
       "0  https://www.facebook.com/RemigijusZemaitaitis1  \n",
       "1  https://www.facebook.com/RemigijusZemaitaitis1  \n",
       "2  https://www.facebook.com/RemigijusZemaitaitis1  \n",
       "3                Remigijus Žemaitaitis | Facebook  \n",
       "4                Remigijus Žemaitaitis | Facebook  "
      ]
     },
     "execution_count": 15,
     "metadata": {},
     "output_type": "execute_result"
    }
   ],
   "source": [
    "import pandas as pd\n",
    "df = pd.read_csv('duomenys.csv', encoding='utf-8')\n",
    "df.head()"
   ]
  },
  {
   "cell_type": "code",
   "execution_count": 7,
   "id": "de723180-c7e3-48c3-85a1-7314e206927c",
   "metadata": {},
   "outputs": [],
   "source": [
    "# Čia yra galimybė įdėti language detect naudojant spacy, kai duomenų rinkinyje bus daugiau kalbų."
   ]
  },
  {
   "cell_type": "code",
   "execution_count": 16,
   "id": "6d4733ca-54d1-4cfd-835b-7adb88eba612",
   "metadata": {},
   "outputs": [
    {
     "data": {
      "text/plain": [
       "{0: 277, 1: 558}"
      ]
     },
     "execution_count": 16,
     "metadata": {},
     "output_type": "execute_result"
    }
   ],
   "source": [
    "dict(df.groupby('Flag').count()['Id'])"
   ]
  },
  {
   "cell_type": "code",
   "execution_count": 17,
   "id": "7f0c6395-eba5-4afa-bc60-5f4c524af33b",
   "metadata": {},
   "outputs": [],
   "source": [
    "# text processing function \n",
    "\n",
    "import re\n",
    "import string\n",
    "def clean_text(text):\n",
    "    # to lower case\n",
    "    text = text.lower()\n",
    "    # remove links\n",
    "    text = re.sub('https:\\/\\/\\S+', '', text) \n",
    "    # remove punctuation\n",
    "    text = re.sub('[%s]' % re.escape(string.punctuation), '', text) \n",
    "    # remove next line     \n",
    "    text = re.sub(r'[^ \\w\\.]', '', text) \n",
    "    # remove words containing numbers\n",
    "    text = re.sub('\\w*\\d\\w*', '', text)\n",
    "    \n",
    "    return text\n",
    "# Create a new column called \"Text\" for collecting clean text\n",
    "df['Text'] = df.Comment.apply(lambda x: clean_text(x))"
   ]
  },
  {
   "cell_type": "code",
   "execution_count": 18,
   "id": "9820a105-67d8-4889-a889-4d24d05add4c",
   "metadata": {},
   "outputs": [
    {
     "data": {
      "text/plain": [
       "'kada ateis toki valdze kai tuos kenkejus gales susodint i kaliuze su turta konfiskavimu  turbut niekada'"
      ]
     },
     "execution_count": 18,
     "metadata": {},
     "output_type": "execute_result"
    }
   ],
   "source": [
    "df.Text.values[0]"
   ]
  },
  {
   "cell_type": "code",
   "execution_count": 19,
   "id": "960aa396-a31e-47f9-96d0-625954158c50",
   "metadata": {},
   "outputs": [
    {
     "name": "stdout",
     "output_type": "stream",
     "text": [
      "Requirement already satisfied: transformers==4.40.2 in d:\\the_fifth_column\\the_fifth_column\\main\\venv\\lib\\site-packages (4.40.2)\n",
      "Requirement already satisfied: filelock in d:\\the_fifth_column\\the_fifth_column\\main\\venv\\lib\\site-packages (from transformers==4.40.2) (3.14.0)\n",
      "Requirement already satisfied: huggingface-hub<1.0,>=0.19.3 in d:\\the_fifth_column\\the_fifth_column\\main\\venv\\lib\\site-packages (from transformers==4.40.2) (0.23.0)\n",
      "Requirement already satisfied: numpy>=1.17 in d:\\the_fifth_column\\the_fifth_column\\main\\venv\\lib\\site-packages (from transformers==4.40.2) (1.26.4)\n",
      "Requirement already satisfied: packaging>=20.0 in d:\\the_fifth_column\\the_fifth_column\\main\\venv\\lib\\site-packages (from transformers==4.40.2) (24.0)\n",
      "Requirement already satisfied: pyyaml>=5.1 in d:\\the_fifth_column\\the_fifth_column\\main\\venv\\lib\\site-packages (from transformers==4.40.2) (6.0.1)\n",
      "Requirement already satisfied: regex!=2019.12.17 in d:\\the_fifth_column\\the_fifth_column\\main\\venv\\lib\\site-packages (from transformers==4.40.2) (2024.5.10)\n",
      "Requirement already satisfied: requests in d:\\the_fifth_column\\the_fifth_column\\main\\venv\\lib\\site-packages (from transformers==4.40.2) (2.31.0)\n",
      "Requirement already satisfied: tokenizers<0.20,>=0.19 in d:\\the_fifth_column\\the_fifth_column\\main\\venv\\lib\\site-packages (from transformers==4.40.2) (0.19.1)\n",
      "Requirement already satisfied: safetensors>=0.4.1 in d:\\the_fifth_column\\the_fifth_column\\main\\venv\\lib\\site-packages (from transformers==4.40.2) (0.4.3)\n",
      "Requirement already satisfied: tqdm>=4.27 in d:\\the_fifth_column\\the_fifth_column\\main\\venv\\lib\\site-packages (from transformers==4.40.2) (4.66.4)\n",
      "Requirement already satisfied: fsspec>=2023.5.0 in d:\\the_fifth_column\\the_fifth_column\\main\\venv\\lib\\site-packages (from huggingface-hub<1.0,>=0.19.3->transformers==4.40.2) (2024.3.1)\n",
      "Requirement already satisfied: typing-extensions>=3.7.4.3 in d:\\the_fifth_column\\the_fifth_column\\main\\venv\\lib\\site-packages (from huggingface-hub<1.0,>=0.19.3->transformers==4.40.2) (4.11.0)\n",
      "Requirement already satisfied: colorama in d:\\the_fifth_column\\the_fifth_column\\main\\venv\\lib\\site-packages (from tqdm>=4.27->transformers==4.40.2) (0.4.6)\n",
      "Requirement already satisfied: charset-normalizer<4,>=2 in d:\\the_fifth_column\\the_fifth_column\\main\\venv\\lib\\site-packages (from requests->transformers==4.40.2) (3.3.2)\n",
      "Requirement already satisfied: idna<4,>=2.5 in d:\\the_fifth_column\\the_fifth_column\\main\\venv\\lib\\site-packages (from requests->transformers==4.40.2) (3.7)\n",
      "Requirement already satisfied: urllib3<3,>=1.21.1 in d:\\the_fifth_column\\the_fifth_column\\main\\venv\\lib\\site-packages (from requests->transformers==4.40.2) (2.2.1)\n",
      "Requirement already satisfied: certifi>=2017.4.17 in d:\\the_fifth_column\\the_fifth_column\\main\\venv\\lib\\site-packages (from requests->transformers==4.40.2) (2024.2.2)\n"
     ]
    }
   ],
   "source": [
    "# install transformers\n",
    "!pip install \"transformers ==4.40.2\" "
   ]
  },
  {
   "cell_type": "code",
   "execution_count": 20,
   "id": "79a9fd69-9648-4b3c-985a-fdddec592517",
   "metadata": {},
   "outputs": [
    {
     "name": "stdout",
     "output_type": "stream",
     "text": [
      "Requirement already satisfied: sentencepiece==0.2.0 in d:\\the_fifth_column\\the_fifth_column\\main\\venv\\lib\\site-packages (0.2.0)\n"
     ]
    }
   ],
   "source": [
    "!pip install \"sentencepiece==0.2.0\""
   ]
  },
  {
   "cell_type": "code",
   "execution_count": 24,
   "id": "0863910b-2107-463c-8225-7d587eeb663f",
   "metadata": {},
   "outputs": [],
   "source": [
    "force_download=True"
   ]
  },
  {
   "cell_type": "code",
   "execution_count": 25,
   "id": "ddc0b18d-db5d-44b6-bcc9-185e3513e3c4",
   "metadata": {},
   "outputs": [
    {
     "data": {
      "text/plain": [
       "3"
      ]
     },
     "execution_count": 25,
     "metadata": {},
     "output_type": "execute_result"
    }
   ],
   "source": [
    "# load tokens\n",
    "from transformers import AutoTokenizer\n",
    "tokenizer = AutoTokenizer.from_pretrained('EMBEDDIA/litlat-bert')\n",
    "# Add words into token \n",
    "tokenizer.add_tokens(['lansberginiai', 'valdžia', 'nuversti'])"
   ]
  },
  {
   "cell_type": "code",
   "execution_count": 26,
   "id": "31982061-ac9c-4a8a-bd9e-b81a9e615f44",
   "metadata": {},
   "outputs": [
    {
     "name": "stdout",
     "output_type": "stream",
     "text": [
      "['lansberginiai']\n",
      "['valdžia']\n",
      "['nuversti']\n"
     ]
    }
   ],
   "source": [
    "print(tokenizer.tokenize('lansberginiai'))\n",
    "print(tokenizer.tokenize('valdžia'))\n",
    "print(tokenizer.tokenize('nuversti'))"
   ]
  },
  {
   "cell_type": "code",
   "execution_count": 27,
   "id": "a5bc9485-e20b-4953-97e6-3e772684f2e1",
   "metadata": {},
   "outputs": [
    {
     "data": {
      "text/plain": [
       "'kada ateis toki valdze kai tuos kenkejus gales susodint i kaliuze su turta konfiskavimu  turbut niekada'"
      ]
     },
     "execution_count": 27,
     "metadata": {},
     "output_type": "execute_result"
    }
   ],
   "source": [
    "df.Text.values[0]"
   ]
  },
  {
   "cell_type": "code",
   "execution_count": 28,
   "id": "10633aaf-b68c-4ad6-9e3b-2faecad8aa1f",
   "metadata": {},
   "outputs": [
    {
     "name": "stdout",
     "output_type": "stream",
     "text": [
      "{'kada': [2579], 'ateis': [20625], 'toki': [28740], 'valdze': [1398, 1810], 'kai': [226], 'tuos': [3814], 'kenkejus': [27539, 25341], 'gales': [564, 61], 'susodint': [2111, 406, 818], 'i': [513], 'kaliuze': [1640, 224, 1810], 'su': [48], 'turta': [520, 166], 'konfiskavimu': [34432, 6379], 'turbut': [41101], 'niekada': [3941]}\n"
     ]
    }
   ],
   "source": [
    "print({x : tokenizer.encode(x, add_special_tokens=False) for x in df.Text.values[0].split()})"
   ]
  },
  {
   "cell_type": "code",
   "execution_count": 29,
   "id": "5634e848-6a68-48fa-95d3-f44ef1fe275e",
   "metadata": {},
   "outputs": [
    {
     "data": {
      "text/plain": [
       "[0,\n",
       " 2579,\n",
       " 20625,\n",
       " 28740,\n",
       " 1398,\n",
       " 1810,\n",
       " 226,\n",
       " 3814,\n",
       " 27539,\n",
       " 25341,\n",
       " 564,\n",
       " 61,\n",
       " 2111,\n",
       " 406,\n",
       " 818,\n",
       " 513,\n",
       " 1640,\n",
       " 224,\n",
       " 1810,\n",
       " 48,\n",
       " 520,\n",
       " 166,\n",
       " 34432,\n",
       " 6379,\n",
       " 41101,\n",
       " 3941,\n",
       " 2]"
      ]
     },
     "execution_count": 29,
     "metadata": {},
     "output_type": "execute_result"
    }
   ],
   "source": [
    "tokenizer(df.Text.values[0])['input_ids']"
   ]
  },
  {
   "cell_type": "code",
   "execution_count": 30,
   "id": "0cc696c3-909e-4f3c-990c-5ce1c76da716",
   "metadata": {},
   "outputs": [
    {
     "name": "stdout",
     "output_type": "stream",
     "text": [
      "Requirement already satisfied: matplotlib in d:\\the_fifth_column\\the_fifth_column\\main\\venv\\lib\\site-packages (3.8.4)\n",
      "Requirement already satisfied: contourpy>=1.0.1 in d:\\the_fifth_column\\the_fifth_column\\main\\venv\\lib\\site-packages (from matplotlib) (1.2.1)\n",
      "Requirement already satisfied: cycler>=0.10 in d:\\the_fifth_column\\the_fifth_column\\main\\venv\\lib\\site-packages (from matplotlib) (0.12.1)\n",
      "Requirement already satisfied: fonttools>=4.22.0 in d:\\the_fifth_column\\the_fifth_column\\main\\venv\\lib\\site-packages (from matplotlib) (4.51.0)\n",
      "Requirement already satisfied: kiwisolver>=1.3.1 in d:\\the_fifth_column\\the_fifth_column\\main\\venv\\lib\\site-packages (from matplotlib) (1.4.5)\n",
      "Requirement already satisfied: numpy>=1.21 in d:\\the_fifth_column\\the_fifth_column\\main\\venv\\lib\\site-packages (from matplotlib) (1.26.4)\n",
      "Requirement already satisfied: packaging>=20.0 in d:\\the_fifth_column\\the_fifth_column\\main\\venv\\lib\\site-packages (from matplotlib) (24.0)\n",
      "Requirement already satisfied: pillow>=8 in d:\\the_fifth_column\\the_fifth_column\\main\\venv\\lib\\site-packages (from matplotlib) (10.3.0)\n",
      "Requirement already satisfied: pyparsing>=2.3.1 in d:\\the_fifth_column\\the_fifth_column\\main\\venv\\lib\\site-packages (from matplotlib) (3.1.2)\n",
      "Requirement already satisfied: python-dateutil>=2.7 in d:\\the_fifth_column\\the_fifth_column\\main\\venv\\lib\\site-packages (from matplotlib) (2.9.0.post0)\n",
      "Requirement already satisfied: six>=1.5 in d:\\the_fifth_column\\the_fifth_column\\main\\venv\\lib\\site-packages (from python-dateutil>=2.7->matplotlib) (1.16.0)\n",
      "max:  442\n",
      "min:  3\n"
     ]
    },
    {
     "data": {
      "text/plain": [
       "(array([  0., 100., 200., 300., 400., 500., 600., 700.]),\n",
       " [Text(0, 0.0, '0'),\n",
       "  Text(0, 100.0, '100'),\n",
       "  Text(0, 200.0, '200'),\n",
       "  Text(0, 300.0, '300'),\n",
       "  Text(0, 400.0, '400'),\n",
       "  Text(0, 500.0, '500'),\n",
       "  Text(0, 600.0, '600'),\n",
       "  Text(0, 700.0, '700')])"
      ]
     },
     "execution_count": 30,
     "metadata": {},
     "output_type": "execute_result"
    },
    {
     "data": {
      "image/png": "[encoded data removed]",
      "text/plain": [
       "<Figure size 2000x800 with 1 Axes>"
      ]
     },
     "metadata": {},
     "output_type": "display_data"
    }
   ],
   "source": [
    "# install matplotlib\n",
    "!pip install matplotlib\n",
    "# tokenize the text feature \n",
    "tokenized_feature_raw = tokenizer.batch_encode_plus(\n",
    "                            # Sentences to encode\n",
    "                            df.Text.values.tolist(), \n",
    "                            # Add '[CLS]' and '[SEP]'\n",
    "                            add_special_tokens = True      \n",
    "                   )\n",
    "# collect tokenized sentence length \n",
    "token_sentence_length = [len(x) for x in tokenized_feature_raw['input_ids']]\n",
    "print('max: ', max(token_sentence_length))\n",
    "print('min: ', min(token_sentence_length))\n",
    "# plot the distribution\n",
    "import matplotlib.pyplot as plt\n",
    "plt.figure(figsize=(20, 8))\n",
    "plt.hist(token_sentence_length, rwidth = 0.9)\n",
    "plt.xlabel('Sequence Length', fontsize = 18)\n",
    "plt.ylabel('# of Samples', fontsize = 18)\n",
    "plt.xticks(fontsize = 14)\n",
    "plt.yticks(fontsize = 14)"
   ]
  },
  {
   "cell_type": "code",
   "execution_count": 31,
   "id": "16296281-6685-431b-b1d2-3a0e59cc0705",
   "metadata": {},
   "outputs": [],
   "source": [
    "# identify features and target\n",
    "features = df.Text.values.tolist()\n",
    "target = df.Flag.values.tolist()"
   ]
  },
  {
   "cell_type": "code",
   "execution_count": 32,
   "id": "ac906f5e-d679-4e2c-b841-b8c2e5fc3819",
   "metadata": {},
   "outputs": [],
   "source": [
    "# tokenize features \n",
    "MAX_LEN = 491\n",
    "tokenized_feature = tokenizer.batch_encode_plus(\n",
    "                            # Sentences to encode\n",
    "                            features, \n",
    "                            # Add '[CLS]' and '[SEP]'\n",
    "                            add_special_tokens = True,\n",
    "                            # Add empty tokens if len(text)<MAX_LEN\n",
    "                            padding = 'max_length',\n",
    "                            # Truncate all sentences to max length\n",
    "                            truncation=True,\n",
    "                            # Set the maximum length\n",
    "                            max_length = MAX_LEN, \n",
    "                            # Return attention mask\n",
    "                            return_attention_mask = True,\n",
    "                            # Return pytorch tensors\n",
    "                            return_tensors = 'pt'       \n",
    "                   )"
   ]
  },
  {
   "cell_type": "code",
   "execution_count": 33,
   "id": "fffa3459-904c-4716-98ab-44ccb3f13265",
   "metadata": {},
   "outputs": [
    {
     "name": "stdout",
     "output_type": "stream",
     "text": [
      "Requirement already satisfied: scikit-learn in d:\\the_fifth_column\\the_fifth_column\\main\\venv\\lib\\site-packages (1.4.2)\n",
      "Requirement already satisfied: numpy>=1.19.5 in d:\\the_fifth_column\\the_fifth_column\\main\\venv\\lib\\site-packages (from scikit-learn) (1.26.4)\n",
      "Requirement already satisfied: scipy>=1.6.0 in d:\\the_fifth_column\\the_fifth_column\\main\\venv\\lib\\site-packages (from scikit-learn) (1.13.0)\n",
      "Requirement already satisfied: joblib>=1.2.0 in d:\\the_fifth_column\\the_fifth_column\\main\\venv\\lib\\site-packages (from scikit-learn) (1.4.2)\n",
      "Requirement already satisfied: threadpoolctl>=2.0.0 in d:\\the_fifth_column\\the_fifth_column\\main\\venv\\lib\\site-packages (from scikit-learn) (3.5.0)\n"
     ]
    }
   ],
   "source": [
    "# install sklearn \n",
    "!pip install scikit-learn\n",
    "# convert label into numeric \n",
    "from sklearn.preprocessing import LabelEncoder\n",
    "le = LabelEncoder()\n",
    "le.fit(target)\n",
    "target_num = le.transform(target)"
   ]
  },
  {
   "cell_type": "code",
   "execution_count": 34,
   "id": "639d6ec1-14b6-46e5-8cac-5316a8ef1603",
   "metadata": {},
   "outputs": [
    {
     "data": {
      "text/plain": [
       "array([1, 1, 1, 1, 1, 1, 1, 1, 1, 1, 1, 1, 1, 1, 1, 1, 1, 1, 1, 1, 1, 1,\n",
       "       1, 1, 1, 1, 1, 1, 1, 1, 1, 1, 1, 1, 1, 1, 1, 1, 1, 1, 1, 1, 1, 1,\n",
       "       1, 1, 1, 1, 1, 1, 1, 1, 1, 1, 1, 1, 1, 1, 1, 1, 1, 1, 1, 1, 1, 1,\n",
       "       1, 1, 1, 1, 1, 1, 1, 1, 1, 1, 1, 1, 1, 1, 1, 1, 1, 1, 1, 1, 1, 1,\n",
       "       1, 1, 1, 1, 1, 1, 1, 1, 1, 1, 1, 1, 1, 1, 1, 1, 1, 1, 1, 1, 1, 1,\n",
       "       1, 1, 1, 1, 1, 1, 1, 1, 1, 1, 1, 1, 1, 1, 1, 1, 1, 1, 1, 1, 1, 1,\n",
       "       1, 1, 1, 1, 1, 1, 1, 1, 1, 1, 1, 1, 1, 1, 1, 1, 1, 1, 1, 1, 1, 1,\n",
       "       1, 1, 1, 1, 1, 1, 1, 1, 1, 1, 1, 1, 1, 1, 1, 1, 1, 1, 1, 1, 1, 1,\n",
       "       1, 1, 1, 1, 1, 1, 1, 1, 1, 1, 1, 1, 1, 1, 1, 1, 1, 1, 1, 1, 1, 1,\n",
       "       1, 1, 1, 1, 1, 1, 1, 1, 1, 1, 1, 1, 1, 1, 1, 1, 1, 1, 1, 1, 1, 1,\n",
       "       1, 1, 1, 1, 1, 1, 1, 1, 1, 1, 1, 1, 1, 1, 1, 1, 1, 1, 1, 1, 1, 1,\n",
       "       1, 1, 1, 1, 1, 1, 1, 1, 1, 1, 1, 1, 1, 1, 1, 1, 1, 1, 1, 1, 1, 1,\n",
       "       1, 1, 1, 1, 1, 1, 1, 1, 1, 1, 1, 1, 1, 1, 1, 1, 1, 1, 1, 1, 1, 1,\n",
       "       1, 1, 1, 1, 1, 1, 1, 1, 1, 1, 1, 1, 1, 1, 1, 1, 1, 1, 1, 1, 1, 1,\n",
       "       1, 1, 1, 1, 1, 1, 1, 1, 1, 1, 1, 1, 1, 1, 1, 1, 1, 1, 1, 1, 1, 1,\n",
       "       1, 1, 1, 1, 1, 1, 1, 1, 1, 1, 1, 1, 1, 1, 1, 1, 1, 1, 1, 1, 1, 1,\n",
       "       1, 1, 1, 1, 1, 1, 1, 1, 1, 1, 1, 1, 1, 1, 1, 1, 1, 1, 1, 1, 1, 1,\n",
       "       1, 1, 1, 1, 1, 1, 1, 1, 1, 1, 1, 1, 1, 1, 1, 1, 1, 1, 1, 1, 1, 1,\n",
       "       1, 1, 1, 1, 1, 1, 1, 1, 1, 1, 1, 1, 1, 1, 1, 1, 1, 1, 1, 1, 1, 1,\n",
       "       1, 1, 1, 1, 1, 1, 1, 1, 1, 1, 1, 1, 1, 1, 1, 1, 1, 1, 1, 1, 1, 1,\n",
       "       1, 1, 1, 1, 1, 1, 1, 1, 1, 1, 1, 1, 1, 1, 1, 1, 1, 1, 1, 1, 1, 1,\n",
       "       1, 1, 1, 1, 1, 1, 1, 1, 1, 1, 1, 1, 1, 1, 1, 1, 1, 1, 1, 1, 1, 1,\n",
       "       1, 1, 1, 1, 1, 1, 1, 1, 1, 1, 1, 1, 1, 1, 1, 1, 1, 1, 1, 1, 1, 1,\n",
       "       1, 1, 1, 1, 1, 1, 1, 1, 1, 1, 1, 1, 1, 1, 1, 1, 1, 1, 1, 1, 1, 1,\n",
       "       1, 1, 1, 1, 1, 1, 1, 1, 1, 1, 1, 1, 1, 1, 1, 1, 1, 1, 1, 1, 1, 1,\n",
       "       1, 0, 0, 1, 0, 0, 0, 0, 0, 0, 0, 0, 0, 0, 0, 0, 0, 0, 0, 0, 0, 0,\n",
       "       0, 0, 0, 0, 0, 0, 0, 0, 0, 0, 0, 0, 0, 0, 0, 0, 0, 0, 0, 0, 0, 0,\n",
       "       0, 0, 0, 0, 0, 0, 0, 0, 0, 0, 0, 0, 0, 0, 0, 0, 0, 0, 0, 0, 0, 0,\n",
       "       0, 0, 0, 0, 0, 0, 0, 0, 0, 0, 0, 0, 0, 0, 0, 0, 0, 0, 0, 0, 0, 0,\n",
       "       0, 0, 0, 0, 0, 0, 0, 0, 0, 0, 0, 0, 0, 0, 0, 0, 0, 0, 0, 0, 0, 0,\n",
       "       0, 0, 0, 0, 0, 0, 0, 0, 0, 0, 0, 0, 0, 0, 0, 0, 0, 0, 0, 0, 0, 0,\n",
       "       0, 0, 0, 0, 0, 0, 0, 0, 0, 0, 0, 0, 0, 0, 1, 1, 0, 0, 0, 0, 0, 0,\n",
       "       0, 0, 0, 0, 0, 0, 0, 0, 0, 0, 1, 0, 0, 0, 0, 0, 1, 0, 0, 0, 0, 0,\n",
       "       0, 0, 0, 0, 0, 0, 0, 0, 0, 0, 0, 0, 0, 0, 0, 0, 0, 0, 0, 0, 0, 0,\n",
       "       0, 0, 0, 0, 0, 0, 0, 0, 0, 0, 0, 0, 0, 0, 0, 0, 0, 0, 0, 1, 0, 0,\n",
       "       0, 0, 0, 0, 0, 0, 0, 0, 0, 0, 0, 0, 0, 0, 0, 0, 0, 0, 0, 0, 0, 0,\n",
       "       0, 0, 0, 0, 0, 0, 0, 0, 0, 0, 0, 0, 0, 0, 0, 0, 0, 0, 0, 0, 0, 0,\n",
       "       0, 0, 0, 0, 0, 0, 0, 0, 0, 0, 0, 0, 0, 0, 0, 0, 0, 0, 1, 0, 0],\n",
       "      dtype=int64)"
      ]
     },
     "execution_count": 34,
     "metadata": {},
     "output_type": "execute_result"
    }
   ],
   "source": [
    "target_num"
   ]
  },
  {
   "cell_type": "code",
   "execution_count": 35,
   "id": "361bf28c-f62b-4407-821a-f662aedfa424",
   "metadata": {},
   "outputs": [],
   "source": [
    "# Use 80% for training and 20% for validation\n",
    "from sklearn.model_selection import train_test_split\n",
    "train_inputs, validation_inputs, train_labels, validation_labels, train_masks, validation_masks = train_test_split(tokenized_feature['input_ids'], \n",
    "                                                                                                             target_num,\n",
    "                                                                                                                    tokenized_feature['attention_mask'],\n",
    "                                                                                                      random_state=2018, test_size=0.2, stratify=target)"
   ]
  },
  {
   "cell_type": "code",
   "execution_count": 36,
   "id": "c4aa7032-d7e2-48ff-a247-b9cfed4e95d2",
   "metadata": {},
   "outputs": [],
   "source": [
    "# define batch_size\n",
    "batch_size = 16\n",
    "# Create the DataLoader for our training set\n",
    "train_data = TensorDataset(train_inputs, train_masks, torch.tensor(train_labels))\n",
    "train_sampler = RandomSampler(train_data)\n",
    "train_dataloader = DataLoader(train_data, sampler=train_sampler, batch_size=batch_size)\n",
    "# Create the DataLoader for our test set\n",
    "validation_data = TensorDataset(validation_inputs, validation_masks, torch.tensor(validation_labels))\n",
    "validation_sampler = SequentialSampler(validation_data)\n",
    "validation_dataloader = DataLoader(validation_data, sampler=validation_sampler, batch_size=batch_size)"
   ]
  },
  {
   "cell_type": "code",
   "execution_count": 38,
   "id": "c3cfc210-e875-4c63-bc8e-8117966dfe81",
   "metadata": {},
   "outputs": [],
   "source": [
    "force_download=True"
   ]
  },
  {
   "cell_type": "code",
   "execution_count": 40,
   "id": "5efec1ad-8f4e-4032-8553-5e35bb8f5690",
   "metadata": {},
   "outputs": [
    {
     "name": "stderr",
     "output_type": "stream",
     "text": [
      "Some weights of XLMRobertaForSequenceClassification were not initialized from the model checkpoint at EMBEDDIA/litlat-bert and are newly initialized: ['classifier.dense.bias', 'classifier.dense.weight', 'classifier.out_proj.bias', 'classifier.out_proj.weight']\n",
      "You should probably TRAIN this model on a down-stream task to be able to use it for predictions and inference.\n"
     ]
    }
   ],
   "source": [
    "# BertForSequenceClassification\n",
    "from transformers import XLMRobertaForSequenceClassification, AdamW, get_linear_schedule_with_warmup\n",
    "model = XLMRobertaForSequenceClassification.from_pretrained(\n",
    "    \"EMBEDDIA/litlat-bert\", \n",
    "    # Specify number of classes\n",
    "    num_labels = len(set(target)), \n",
    "    # Whether the model returns attentions weights\n",
    "    output_attentions = False,\n",
    "    # Whether the model returns all hidden-states \n",
    "    output_hidden_states = False\n",
    ")"
   ]
  },
  {
   "cell_type": "code",
   "execution_count": 46,
   "id": "e8ecd608-5747-48c5-99eb-3c76a3e1b982",
   "metadata": {},
   "outputs": [
    {
     "data": {
      "text/plain": [
       "Embedding(84201, 768, padding_idx=1)"
      ]
     },
     "execution_count": 46,
     "metadata": {},
     "output_type": "execute_result"
    }
   ],
   "source": [
    "model.resize_token_embeddings(len(tokenizer))"
   ]
  },
  {
   "cell_type": "code",
   "execution_count": 47,
   "id": "3d312ab6-dea6-4055-99d1-702d1ffce131",
   "metadata": {},
   "outputs": [
    {
     "name": "stderr",
     "output_type": "stream",
     "text": [
      "D:\\The_fifth_column\\The_fifth_column\\Main\\venv\\lib\\site-packages\\transformers\\optimization.py:521: FutureWarning: This implementation of AdamW is deprecated and will be removed in a future version. Use the PyTorch implementation torch.optim.AdamW instead, or set `no_deprecation_warning=True` to disable this warning\n",
      "  warnings.warn(\n"
     ]
    }
   ],
   "source": [
    "# Optimizer & Learning Rate Scheduler\n",
    "optimizer = AdamW(model.parameters(),\n",
    "                  lr = 2e-5, \n",
    "                  eps = 1e-8 \n",
    "                )"
   ]
  },
  {
   "cell_type": "code",
   "execution_count": 48,
   "id": "f0470c6f-2942-4b51-9af6-a1f59c695f9b",
   "metadata": {},
   "outputs": [],
   "source": [
    "# Number of training epochs\n",
    "epochs = 4\n",
    "# Total number of training steps is number of batches * number of epochs.\n",
    "total_steps = len(train_dataloader) * epochs\n",
    "# Create the learning rate scheduler\n",
    "scheduler = get_linear_schedule_with_warmup(optimizer,\n",
    "                                            num_warmup_steps = 0,\n",
    "                                            num_training_steps = total_steps)"
   ]
  },
  {
   "cell_type": "code",
   "execution_count": 49,
   "id": "e307d199-d2b4-475a-ae7d-c6c6c54f987d",
   "metadata": {},
   "outputs": [
    {
     "data": {
      "text/plain": [
       "XLMRobertaForSequenceClassification(\n",
       "  (roberta): XLMRobertaModel(\n",
       "    (embeddings): XLMRobertaEmbeddings(\n",
       "      (word_embeddings): Embedding(84201, 768, padding_idx=1)\n",
       "      (position_embeddings): Embedding(514, 768, padding_idx=1)\n",
       "      (token_type_embeddings): Embedding(1, 768)\n",
       "      (LayerNorm): LayerNorm((768,), eps=1e-05, elementwise_affine=True)\n",
       "      (dropout): Dropout(p=0.1, inplace=False)\n",
       "    )\n",
       "    (encoder): XLMRobertaEncoder(\n",
       "      (layer): ModuleList(\n",
       "        (0-11): 12 x XLMRobertaLayer(\n",
       "          (attention): XLMRobertaAttention(\n",
       "            (self): XLMRobertaSelfAttention(\n",
       "              (query): Linear(in_features=768, out_features=768, bias=True)\n",
       "              (key): Linear(in_features=768, out_features=768, bias=True)\n",
       "              (value): Linear(in_features=768, out_features=768, bias=True)\n",
       "              (dropout): Dropout(p=0.1, inplace=False)\n",
       "            )\n",
       "            (output): XLMRobertaSelfOutput(\n",
       "              (dense): Linear(in_features=768, out_features=768, bias=True)\n",
       "              (LayerNorm): LayerNorm((768,), eps=1e-05, elementwise_affine=True)\n",
       "              (dropout): Dropout(p=0.1, inplace=False)\n",
       "            )\n",
       "          )\n",
       "          (intermediate): XLMRobertaIntermediate(\n",
       "            (dense): Linear(in_features=768, out_features=3072, bias=True)\n",
       "            (intermediate_act_fn): GELUActivation()\n",
       "          )\n",
       "          (output): XLMRobertaOutput(\n",
       "            (dense): Linear(in_features=3072, out_features=768, bias=True)\n",
       "            (LayerNorm): LayerNorm((768,), eps=1e-05, elementwise_affine=True)\n",
       "            (dropout): Dropout(p=0.1, inplace=False)\n",
       "          )\n",
       "        )\n",
       "      )\n",
       "    )\n",
       "  )\n",
       "  (classifier): XLMRobertaClassificationHead(\n",
       "    (dense): Linear(in_features=768, out_features=768, bias=True)\n",
       "    (dropout): Dropout(p=0.1, inplace=False)\n",
       "    (out_proj): Linear(in_features=768, out_features=2, bias=True)\n",
       "  )\n",
       ")"
      ]
     },
     "execution_count": 49,
     "metadata": {},
     "output_type": "execute_result"
    }
   ],
   "source": [
    "device = torch.device(\"cpu\")\n",
    "model.to(device)"
   ]
  },
  {
   "cell_type": "code",
   "execution_count": null,
   "id": "db765322-de0e-4f5f-9a37-01821834130a",
   "metadata": {},
   "outputs": [
    {
     "name": "stdout",
     "output_type": "stream",
     "text": [
      "total steps per epoch:  2.625\n",
      "training on epoch:  0\n"
     ]
    }
   ],
   "source": [
    "\n",
    "import time\n",
    "# Store the average loss after each epoch \n",
    "loss_values = []\n",
    "# number of total steps for each epoch\n",
    "print('total steps per epoch: ',  len(train_dataloader) / batch_size)\n",
    "# looping over epochs\n",
    "for epoch_i in range(0, epochs):\n",
    "    \n",
    "    print('training on epoch: ', epoch_i)\n",
    "    # set start time \n",
    "    t0 = time.time()\n",
    "    # reset total loss\n",
    "    total_loss = 0\n",
    "    # model in training \n",
    "    model.train()\n",
    "    # loop through batch \n",
    "    for step, batch in enumerate(train_dataloader):\n",
    "        # Progress update every 50 step \n",
    "        if step % 50 == 0 and not step == 0:\n",
    "            print('training on step: ', step)\n",
    "            print('total time used is: {0:.2f} s'.format(time.time() - t0))\n",
    "        # load data from dataloader \n",
    "        b_input_ids = batch[0].to(device)\n",
    "        b_input_mask = batch[1].to(device)\n",
    "        b_labels = batch[2].to(device)\n",
    "        # clear any previously calculated gradients \n",
    "        model.zero_grad()\n",
    "        # get outputs\n",
    "        outputs = model(b_input_ids,\n",
    "                        token_type_ids=None,\n",
    "                        attention_mask=b_input_mask,\n",
    "                        labels=b_labels)\n",
    "        # get loss\n",
    "        loss = outputs[0]\n",
    "        # total loss\n",
    "        total_loss += loss.item()\n",
    "        # clip the norm of the gradients to 1.0.\n",
    "        torch.nn.utils.clip_grad_norm_(model.parameters(), 1.0)\n",
    "        # update optimizer\n",
    "        optimizer.step()\n",
    "        # update learning rate \n",
    "        scheduler.step()\n",
    "    # Calculate the average loss over the training data.\n",
    "    avg_train_loss = total_loss / len(train_dataloader)\n",
    "    # Store the loss value for plotting the learning curve.\n",
    "    loss_values.append(avg_train_loss)\n",
    "    print(\"average training loss: {0:.2f}\".format(avg_train_loss))"
   ]
  },
  {
   "cell_type": "code",
   "execution_count": null,
   "id": "a67bc1c3-9b6f-4566-89ad-72f6c84a46f0",
   "metadata": {},
   "outputs": [],
   "source": []
  }
 ],
 "metadata": {
  "kernelspec": {
   "display_name": "bert_venv",
   "language": "python",
   "name": "venv"
  },
  "language_info": {
   "codemirror_mode": {
    "name": "ipython",
    "version": 3
   },
   "file_extension": ".py",
   "mimetype": "text/x-python",
   "name": "python",
   "nbconvert_exporter": "python",
   "pygments_lexer": "ipython3",
   "version": "3.10.7"
  }
 },
 "nbformat": 4,
 "nbformat_minor": 5
}
