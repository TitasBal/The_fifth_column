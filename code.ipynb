{
  "cells": [
    {
      "cell_type": "markdown",
      "metadata": {
        "id": "view-in-github",
        "colab_type": "text"
      },
      "source": [
        "<a href=\"https://colab.research.google.com/github/TitasBal/The_fifth_column/blob/main/code.ipynb\" target=\"_parent\"><img src=\"https://colab.research.google.com/assets/colab-badge.svg\" alt=\"Open In Colab\"/></a>"
      ]
    },
    {
      "cell_type": "code",
      "execution_count": 88,
      "id": "8d31af8c-35e7-41e0-b042-8d7f16092c84",
      "metadata": {
        "id": "8d31af8c-35e7-41e0-b042-8d7f16092c84",
        "outputId": "d13e7c3f-08d8-461b-aaa8-bb37ad4ea37b",
        "colab": {
          "base_uri": "https://localhost:8080/"
        }
      },
      "outputs": [
        {
          "output_type": "stream",
          "name": "stdout",
          "text": [
            "Requirement already satisfied: torch==2.2.1 in /usr/local/lib/python3.10/dist-packages (2.2.1)\n",
            "Requirement already satisfied: filelock in /usr/local/lib/python3.10/dist-packages (from torch==2.2.1) (3.14.0)\n",
            "Requirement already satisfied: typing-extensions>=4.8.0 in /usr/local/lib/python3.10/dist-packages (from torch==2.2.1) (4.11.0)\n",
            "Requirement already satisfied: sympy in /usr/local/lib/python3.10/dist-packages (from torch==2.2.1) (1.12)\n",
            "Requirement already satisfied: networkx in /usr/local/lib/python3.10/dist-packages (from torch==2.2.1) (3.3)\n",
            "Requirement already satisfied: jinja2 in /usr/local/lib/python3.10/dist-packages (from torch==2.2.1) (3.1.4)\n",
            "Requirement already satisfied: fsspec in /usr/local/lib/python3.10/dist-packages (from torch==2.2.1) (2024.3.1)\n",
            "Requirement already satisfied: nvidia-cuda-nvrtc-cu12==12.1.105 in /usr/local/lib/python3.10/dist-packages (from torch==2.2.1) (12.1.105)\n",
            "Requirement already satisfied: nvidia-cuda-runtime-cu12==12.1.105 in /usr/local/lib/python3.10/dist-packages (from torch==2.2.1) (12.1.105)\n",
            "Requirement already satisfied: nvidia-cuda-cupti-cu12==12.1.105 in /usr/local/lib/python3.10/dist-packages (from torch==2.2.1) (12.1.105)\n",
            "Requirement already satisfied: nvidia-cudnn-cu12==8.9.2.26 in /usr/local/lib/python3.10/dist-packages (from torch==2.2.1) (8.9.2.26)\n",
            "Requirement already satisfied: nvidia-cublas-cu12==12.1.3.1 in /usr/local/lib/python3.10/dist-packages (from torch==2.2.1) (12.1.3.1)\n",
            "Requirement already satisfied: nvidia-cufft-cu12==11.0.2.54 in /usr/local/lib/python3.10/dist-packages (from torch==2.2.1) (11.0.2.54)\n",
            "Requirement already satisfied: nvidia-curand-cu12==10.3.2.106 in /usr/local/lib/python3.10/dist-packages (from torch==2.2.1) (10.3.2.106)\n",
            "Requirement already satisfied: nvidia-cusolver-cu12==11.4.5.107 in /usr/local/lib/python3.10/dist-packages (from torch==2.2.1) (11.4.5.107)\n",
            "Requirement already satisfied: nvidia-cusparse-cu12==12.1.0.106 in /usr/local/lib/python3.10/dist-packages (from torch==2.2.1) (12.1.0.106)\n",
            "Requirement already satisfied: nvidia-nccl-cu12==2.19.3 in /usr/local/lib/python3.10/dist-packages (from torch==2.2.1) (2.19.3)\n",
            "Requirement already satisfied: nvidia-nvtx-cu12==12.1.105 in /usr/local/lib/python3.10/dist-packages (from torch==2.2.1) (12.1.105)\n",
            "Requirement already satisfied: triton==2.2.0 in /usr/local/lib/python3.10/dist-packages (from torch==2.2.1) (2.2.0)\n",
            "Requirement already satisfied: nvidia-nvjitlink-cu12 in /usr/local/lib/python3.10/dist-packages (from nvidia-cusolver-cu12==11.4.5.107->torch==2.2.1) (12.4.127)\n",
            "Requirement already satisfied: MarkupSafe>=2.0 in /usr/local/lib/python3.10/dist-packages (from jinja2->torch==2.2.1) (2.1.5)\n",
            "Requirement already satisfied: mpmath>=0.19 in /usr/local/lib/python3.10/dist-packages (from sympy->torch==2.2.1) (1.3.0)\n"
          ]
        }
      ],
      "source": [
        "!pip install \"torch == 2.2.1\""
      ]
    },
    {
      "cell_type": "code",
      "execution_count": 89,
      "id": "239cb2bc-a12a-4a7e-b410-2d50d8e3faa0",
      "metadata": {
        "id": "239cb2bc-a12a-4a7e-b410-2d50d8e3faa0"
      },
      "outputs": [],
      "source": [
        "import torch\n",
        "from torch.utils.data import TensorDataset, DataLoader, RandomSampler, SequentialSampler"
      ]
    },
    {
      "cell_type": "code",
      "execution_count": 90,
      "id": "cb8af2cb-54c6-4d43-a2be-752ec5e5200e",
      "metadata": {
        "id": "cb8af2cb-54c6-4d43-a2be-752ec5e5200e",
        "outputId": "69ba95e6-812a-44f1-88b3-dc1d643045e8",
        "colab": {
          "base_uri": "https://localhost:8080/"
        }
      },
      "outputs": [
        {
          "output_type": "stream",
          "name": "stdout",
          "text": [
            "No GPU available, using the CPU instead.\n"
          ]
        }
      ],
      "source": [
        "import torch\n",
        "# check if we have cuda installed\n",
        "if torch.cuda.is_available():\n",
        "    # to use GPU\n",
        "    device = torch.device(\"cuda\")\n",
        "    print('There are %d GPU(s) available.' % torch.cuda.device_count())\n",
        "    print('GPU is:', torch.cuda.get_device_name(0))\n",
        "else:\n",
        "    print('No GPU available, using the CPU instead.')\n",
        "    device = torch.device(\"cpu\")"
      ]
    },
    {
      "cell_type": "code",
      "execution_count": 91,
      "id": "71f67c5f-af2b-4dd6-a568-79a34b1aa196",
      "metadata": {
        "id": "71f67c5f-af2b-4dd6-a568-79a34b1aa196",
        "outputId": "f1dd0290-0b26-49a1-c6cc-8660a7252d90",
        "colab": {
          "base_uri": "https://localhost:8080/"
        }
      },
      "outputs": [
        {
          "output_type": "stream",
          "name": "stdout",
          "text": [
            "Requirement already satisfied: pandas in /usr/local/lib/python3.10/dist-packages (2.0.3)\n",
            "Requirement already satisfied: python-dateutil>=2.8.2 in /usr/local/lib/python3.10/dist-packages (from pandas) (2.9.0.post0)\n",
            "Requirement already satisfied: pytz>=2020.1 in /usr/local/lib/python3.10/dist-packages (from pandas) (2024.1)\n",
            "Requirement already satisfied: tzdata>=2022.1 in /usr/local/lib/python3.10/dist-packages (from pandas) (2024.1)\n",
            "Requirement already satisfied: numpy>=1.21.0 in /usr/local/lib/python3.10/dist-packages (from pandas) (1.25.2)\n",
            "Requirement already satisfied: six>=1.5 in /usr/local/lib/python3.10/dist-packages (from python-dateutil>=2.8.2->pandas) (1.16.0)\n"
          ]
        }
      ],
      "source": [
        "!pip install pandas"
      ]
    },
    {
      "cell_type": "code",
      "execution_count": 92,
      "id": "4691b3d3-7822-4fd4-aa6e-7e3734db2b45",
      "metadata": {
        "id": "4691b3d3-7822-4fd4-aa6e-7e3734db2b45",
        "outputId": "6a95362f-e4ae-4179-d7a4-3e2359d2293b",
        "colab": {
          "base_uri": "https://localhost:8080/",
          "height": 206
        }
      },
      "outputs": [
        {
          "output_type": "execute_result",
          "data": {
            "text/plain": [
              "   Id                  User  \\\n",
              "0   1      Þilvinas Ramonas   \n",
              "1   2  Regina Sakalauskienë   \n",
              "2   3         Alma Kecioglu   \n",
              "3   4     Zilvinas Zilvinas   \n",
              "4   5         Arnoldas Plus   \n",
              "\n",
              "                                             Comment  Flag  \n",
              "0  Kada ateis toki valdze kai tuos kenkejus gales...     1  \n",
              "1  Lietuvoje teisësaugos nëra- viskà lemia piniga...     1  \n",
              "2  Net liüdna kad Lt gelezine diktatüra ir baisu ...     1  \n",
              "3  Suklastojo paraðus,klastos rinkimus,kitaip kon...     1  \n",
              "4  Iðvaizda iðduoda kad Ingrid Ðymon nëra lietuvë...     1  "
            ],
            "text/html": [
              "\n",
              "  <div id=\"df-d3edb5bf-4402-4c94-876c-7df76c2264a8\" class=\"colab-df-container\">\n",
              "    <div>\n",
              "<style scoped>\n",
              "    .dataframe tbody tr th:only-of-type {\n",
              "        vertical-align: middle;\n",
              "    }\n",
              "\n",
              "    .dataframe tbody tr th {\n",
              "        vertical-align: top;\n",
              "    }\n",
              "\n",
              "    .dataframe thead th {\n",
              "        text-align: right;\n",
              "    }\n",
              "</style>\n",
              "<table border=\"1\" class=\"dataframe\">\n",
              "  <thead>\n",
              "    <tr style=\"text-align: right;\">\n",
              "      <th></th>\n",
              "      <th>Id</th>\n",
              "      <th>User</th>\n",
              "      <th>Comment</th>\n",
              "      <th>Flag</th>\n",
              "    </tr>\n",
              "  </thead>\n",
              "  <tbody>\n",
              "    <tr>\n",
              "      <th>0</th>\n",
              "      <td>1</td>\n",
              "      <td>Þilvinas Ramonas</td>\n",
              "      <td>Kada ateis toki valdze kai tuos kenkejus gales...</td>\n",
              "      <td>1</td>\n",
              "    </tr>\n",
              "    <tr>\n",
              "      <th>1</th>\n",
              "      <td>2</td>\n",
              "      <td>Regina Sakalauskienë</td>\n",
              "      <td>Lietuvoje teisësaugos nëra- viskà lemia piniga...</td>\n",
              "      <td>1</td>\n",
              "    </tr>\n",
              "    <tr>\n",
              "      <th>2</th>\n",
              "      <td>3</td>\n",
              "      <td>Alma Kecioglu</td>\n",
              "      <td>Net liüdna kad Lt gelezine diktatüra ir baisu ...</td>\n",
              "      <td>1</td>\n",
              "    </tr>\n",
              "    <tr>\n",
              "      <th>3</th>\n",
              "      <td>4</td>\n",
              "      <td>Zilvinas Zilvinas</td>\n",
              "      <td>Suklastojo paraðus,klastos rinkimus,kitaip kon...</td>\n",
              "      <td>1</td>\n",
              "    </tr>\n",
              "    <tr>\n",
              "      <th>4</th>\n",
              "      <td>5</td>\n",
              "      <td>Arnoldas Plus</td>\n",
              "      <td>Iðvaizda iðduoda kad Ingrid Ðymon nëra lietuvë...</td>\n",
              "      <td>1</td>\n",
              "    </tr>\n",
              "  </tbody>\n",
              "</table>\n",
              "</div>\n",
              "    <div class=\"colab-df-buttons\">\n",
              "\n",
              "  <div class=\"colab-df-container\">\n",
              "    <button class=\"colab-df-convert\" onclick=\"convertToInteractive('df-d3edb5bf-4402-4c94-876c-7df76c2264a8')\"\n",
              "            title=\"Convert this dataframe to an interactive table.\"\n",
              "            style=\"display:none;\">\n",
              "\n",
              "  <svg xmlns=\"http://www.w3.org/2000/svg\" height=\"24px\" viewBox=\"0 -960 960 960\">\n",
              "    <path d=\"M120-120v-720h720v720H120Zm60-500h600v-160H180v160Zm220 220h160v-160H400v160Zm0 220h160v-160H400v160ZM180-400h160v-160H180v160Zm440 0h160v-160H620v160ZM180-180h160v-160H180v160Zm440 0h160v-160H620v160Z\"/>\n",
              "  </svg>\n",
              "    </button>\n",
              "\n",
              "  <style>\n",
              "    .colab-df-container {\n",
              "      display:flex;\n",
              "      gap: 12px;\n",
              "    }\n",
              "\n",
              "    .colab-df-convert {\n",
              "      background-color: #E8F0FE;\n",
              "      border: none;\n",
              "      border-radius: 50%;\n",
              "      cursor: pointer;\n",
              "      display: none;\n",
              "      fill: #1967D2;\n",
              "      height: 32px;\n",
              "      padding: 0 0 0 0;\n",
              "      width: 32px;\n",
              "    }\n",
              "\n",
              "    .colab-df-convert:hover {\n",
              "      background-color: #E2EBFA;\n",
              "      box-shadow: 0px 1px 2px rgba(60, 64, 67, 0.3), 0px 1px 3px 1px rgba(60, 64, 67, 0.15);\n",
              "      fill: #174EA6;\n",
              "    }\n",
              "\n",
              "    .colab-df-buttons div {\n",
              "      margin-bottom: 4px;\n",
              "    }\n",
              "\n",
              "    [theme=dark] .colab-df-convert {\n",
              "      background-color: #3B4455;\n",
              "      fill: #D2E3FC;\n",
              "    }\n",
              "\n",
              "    [theme=dark] .colab-df-convert:hover {\n",
              "      background-color: #434B5C;\n",
              "      box-shadow: 0px 1px 3px 1px rgba(0, 0, 0, 0.15);\n",
              "      filter: drop-shadow(0px 1px 2px rgba(0, 0, 0, 0.3));\n",
              "      fill: #FFFFFF;\n",
              "    }\n",
              "  </style>\n",
              "\n",
              "    <script>\n",
              "      const buttonEl =\n",
              "        document.querySelector('#df-d3edb5bf-4402-4c94-876c-7df76c2264a8 button.colab-df-convert');\n",
              "      buttonEl.style.display =\n",
              "        google.colab.kernel.accessAllowed ? 'block' : 'none';\n",
              "\n",
              "      async function convertToInteractive(key) {\n",
              "        const element = document.querySelector('#df-d3edb5bf-4402-4c94-876c-7df76c2264a8');\n",
              "        const dataTable =\n",
              "          await google.colab.kernel.invokeFunction('convertToInteractive',\n",
              "                                                    [key], {});\n",
              "        if (!dataTable) return;\n",
              "\n",
              "        const docLinkHtml = 'Like what you see? Visit the ' +\n",
              "          '<a target=\"_blank\" href=https://colab.research.google.com/notebooks/data_table.ipynb>data table notebook</a>'\n",
              "          + ' to learn more about interactive tables.';\n",
              "        element.innerHTML = '';\n",
              "        dataTable['output_type'] = 'display_data';\n",
              "        await google.colab.output.renderOutput(dataTable, element);\n",
              "        const docLink = document.createElement('div');\n",
              "        docLink.innerHTML = docLinkHtml;\n",
              "        element.appendChild(docLink);\n",
              "      }\n",
              "    </script>\n",
              "  </div>\n",
              "\n",
              "\n",
              "<div id=\"df-2160d4b8-a6dd-4bc8-aed3-351f611c4a34\">\n",
              "  <button class=\"colab-df-quickchart\" onclick=\"quickchart('df-2160d4b8-a6dd-4bc8-aed3-351f611c4a34')\"\n",
              "            title=\"Suggest charts\"\n",
              "            style=\"display:none;\">\n",
              "\n",
              "<svg xmlns=\"http://www.w3.org/2000/svg\" height=\"24px\"viewBox=\"0 0 24 24\"\n",
              "     width=\"24px\">\n",
              "    <g>\n",
              "        <path d=\"M19 3H5c-1.1 0-2 .9-2 2v14c0 1.1.9 2 2 2h14c1.1 0 2-.9 2-2V5c0-1.1-.9-2-2-2zM9 17H7v-7h2v7zm4 0h-2V7h2v10zm4 0h-2v-4h2v4z\"/>\n",
              "    </g>\n",
              "</svg>\n",
              "  </button>\n",
              "\n",
              "<style>\n",
              "  .colab-df-quickchart {\n",
              "      --bg-color: #E8F0FE;\n",
              "      --fill-color: #1967D2;\n",
              "      --hover-bg-color: #E2EBFA;\n",
              "      --hover-fill-color: #174EA6;\n",
              "      --disabled-fill-color: #AAA;\n",
              "      --disabled-bg-color: #DDD;\n",
              "  }\n",
              "\n",
              "  [theme=dark] .colab-df-quickchart {\n",
              "      --bg-color: #3B4455;\n",
              "      --fill-color: #D2E3FC;\n",
              "      --hover-bg-color: #434B5C;\n",
              "      --hover-fill-color: #FFFFFF;\n",
              "      --disabled-bg-color: #3B4455;\n",
              "      --disabled-fill-color: #666;\n",
              "  }\n",
              "\n",
              "  .colab-df-quickchart {\n",
              "    background-color: var(--bg-color);\n",
              "    border: none;\n",
              "    border-radius: 50%;\n",
              "    cursor: pointer;\n",
              "    display: none;\n",
              "    fill: var(--fill-color);\n",
              "    height: 32px;\n",
              "    padding: 0;\n",
              "    width: 32px;\n",
              "  }\n",
              "\n",
              "  .colab-df-quickchart:hover {\n",
              "    background-color: var(--hover-bg-color);\n",
              "    box-shadow: 0 1px 2px rgba(60, 64, 67, 0.3), 0 1px 3px 1px rgba(60, 64, 67, 0.15);\n",
              "    fill: var(--button-hover-fill-color);\n",
              "  }\n",
              "\n",
              "  .colab-df-quickchart-complete:disabled,\n",
              "  .colab-df-quickchart-complete:disabled:hover {\n",
              "    background-color: var(--disabled-bg-color);\n",
              "    fill: var(--disabled-fill-color);\n",
              "    box-shadow: none;\n",
              "  }\n",
              "\n",
              "  .colab-df-spinner {\n",
              "    border: 2px solid var(--fill-color);\n",
              "    border-color: transparent;\n",
              "    border-bottom-color: var(--fill-color);\n",
              "    animation:\n",
              "      spin 1s steps(1) infinite;\n",
              "  }\n",
              "\n",
              "  @keyframes spin {\n",
              "    0% {\n",
              "      border-color: transparent;\n",
              "      border-bottom-color: var(--fill-color);\n",
              "      border-left-color: var(--fill-color);\n",
              "    }\n",
              "    20% {\n",
              "      border-color: transparent;\n",
              "      border-left-color: var(--fill-color);\n",
              "      border-top-color: var(--fill-color);\n",
              "    }\n",
              "    30% {\n",
              "      border-color: transparent;\n",
              "      border-left-color: var(--fill-color);\n",
              "      border-top-color: var(--fill-color);\n",
              "      border-right-color: var(--fill-color);\n",
              "    }\n",
              "    40% {\n",
              "      border-color: transparent;\n",
              "      border-right-color: var(--fill-color);\n",
              "      border-top-color: var(--fill-color);\n",
              "    }\n",
              "    60% {\n",
              "      border-color: transparent;\n",
              "      border-right-color: var(--fill-color);\n",
              "    }\n",
              "    80% {\n",
              "      border-color: transparent;\n",
              "      border-right-color: var(--fill-color);\n",
              "      border-bottom-color: var(--fill-color);\n",
              "    }\n",
              "    90% {\n",
              "      border-color: transparent;\n",
              "      border-bottom-color: var(--fill-color);\n",
              "    }\n",
              "  }\n",
              "</style>\n",
              "\n",
              "  <script>\n",
              "    async function quickchart(key) {\n",
              "      const quickchartButtonEl =\n",
              "        document.querySelector('#' + key + ' button');\n",
              "      quickchartButtonEl.disabled = true;  // To prevent multiple clicks.\n",
              "      quickchartButtonEl.classList.add('colab-df-spinner');\n",
              "      try {\n",
              "        const charts = await google.colab.kernel.invokeFunction(\n",
              "            'suggestCharts', [key], {});\n",
              "      } catch (error) {\n",
              "        console.error('Error during call to suggestCharts:', error);\n",
              "      }\n",
              "      quickchartButtonEl.classList.remove('colab-df-spinner');\n",
              "      quickchartButtonEl.classList.add('colab-df-quickchart-complete');\n",
              "    }\n",
              "    (() => {\n",
              "      let quickchartButtonEl =\n",
              "        document.querySelector('#df-2160d4b8-a6dd-4bc8-aed3-351f611c4a34 button');\n",
              "      quickchartButtonEl.style.display =\n",
              "        google.colab.kernel.accessAllowed ? 'block' : 'none';\n",
              "    })();\n",
              "  </script>\n",
              "</div>\n",
              "    </div>\n",
              "  </div>\n"
            ],
            "application/vnd.google.colaboratory.intrinsic+json": {
              "type": "dataframe",
              "variable_name": "df",
              "summary": "{\n  \"name\": \"df\",\n  \"rows\": 1011,\n  \"fields\": [\n    {\n      \"column\": \"Id\",\n      \"properties\": {\n        \"dtype\": \"number\",\n        \"std\": 291,\n        \"min\": 1,\n        \"max\": 1011,\n        \"num_unique_values\": 1011,\n        \"samples\": [\n          631,\n          634,\n          686\n        ],\n        \"semantic_type\": \"\",\n        \"description\": \"\"\n      }\n    },\n    {\n      \"column\": \"User\",\n      \"properties\": {\n        \"dtype\": \"string\",\n        \"num_unique_values\": 817,\n        \"samples\": [\n          \"Vytautas Natys - Nath\",\n          \"Nijol\\u00eb Voitonien\\u00eb\",\n          \"Arturas AT\"\n        ],\n        \"semantic_type\": \"\",\n        \"description\": \"\"\n      }\n    },\n    {\n      \"column\": \"Comment\",\n      \"properties\": {\n        \"dtype\": \"string\",\n        \"num_unique_values\": 1006,\n        \"samples\": [\n          \"Su \\u00f0ituo Seimu labai atsiskleid\\u00eb visi dvigubi standartai, bei atsiskleid\\u00eb kas yra kas, kas su kuo susij\\u00e6.\",\n          \"Va tau valstyb\\u00eb ,pasirod\\u00eb vism gra\\u00feume\",\n          \"Tai kad \\u00f0\\u00fbdas tu esi.\"\n        ],\n        \"semantic_type\": \"\",\n        \"description\": \"\"\n      }\n    },\n    {\n      \"column\": \"Flag\",\n      \"properties\": {\n        \"dtype\": \"number\",\n        \"std\": 0,\n        \"min\": 0,\n        \"max\": 1,\n        \"num_unique_values\": 2,\n        \"samples\": [\n          0,\n          1\n        ],\n        \"semantic_type\": \"\",\n        \"description\": \"\"\n      }\n    }\n  ]\n}"
            }
          },
          "metadata": {},
          "execution_count": 92
        }
      ],
      "source": [
        "import pandas as pd\n",
        "df = pd.read_csv('komentarai.csv', encoding='utf-8')\n",
        "df.head()"
      ]
    },
    {
      "cell_type": "code",
      "execution_count": 93,
      "id": "de723180-c7e3-48c3-85a1-7314e206927c",
      "metadata": {
        "id": "de723180-c7e3-48c3-85a1-7314e206927c"
      },
      "outputs": [],
      "source": [
        "# Čia yra galimybė įdėti language detect naudojant spacy, kai duomenų rinkinyje bus daugiau kalbų."
      ]
    },
    {
      "cell_type": "code",
      "execution_count": 94,
      "id": "6d4733ca-54d1-4cfd-835b-7adb88eba612",
      "metadata": {
        "id": "6d4733ca-54d1-4cfd-835b-7adb88eba612",
        "outputId": "70b5c270-e417-42fe-de2e-0fa278f5a2d7",
        "colab": {
          "base_uri": "https://localhost:8080/"
        }
      },
      "outputs": [
        {
          "output_type": "execute_result",
          "data": {
            "text/plain": [
              "{0: 443, 1: 568}"
            ]
          },
          "metadata": {},
          "execution_count": 94
        }
      ],
      "source": [
        "dict(df.groupby('Flag').count()['Id'])"
      ]
    },
    {
      "cell_type": "code",
      "execution_count": 95,
      "id": "7f0c6395-eba5-4afa-bc60-5f4c524af33b",
      "metadata": {
        "id": "7f0c6395-eba5-4afa-bc60-5f4c524af33b"
      },
      "outputs": [],
      "source": [
        "# text processing function\n",
        "\n",
        "import re\n",
        "import string\n",
        "def clean_text(text):\n",
        "    # to lower case\n",
        "    text = text.lower()\n",
        "    # remove links\n",
        "    text = re.sub('https:\\/\\/\\S+', '', text)\n",
        "    # remove punctuation\n",
        "    text = re.sub('[%s]' % re.escape(string.punctuation), '', text)\n",
        "    # remove next line\n",
        "    text = re.sub(r'[^ \\w\\.]', '', text)\n",
        "    # remove words containing numbers\n",
        "    text = re.sub('\\w*\\d\\w*', '', text)\n",
        "\n",
        "    return text\n",
        "# Create a new column called \"Text\" for collecting clean text\n",
        "df['Text'] = df.Comment.apply(lambda x: clean_text(x))"
      ]
    },
    {
      "cell_type": "code",
      "execution_count": 96,
      "id": "9820a105-67d8-4889-a889-4d24d05add4c",
      "metadata": {
        "id": "9820a105-67d8-4889-a889-4d24d05add4c",
        "outputId": "fc3ad52b-5b3d-443c-8fd3-652f198a1661",
        "colab": {
          "base_uri": "https://localhost:8080/",
          "height": 35
        }
      },
      "outputs": [
        {
          "output_type": "execute_result",
          "data": {
            "text/plain": [
              "'kada ateis toki valdze kai tuos kenkejus gales susodint i kaliuze su turta konfiskavimu  turbut niekada'"
            ],
            "application/vnd.google.colaboratory.intrinsic+json": {
              "type": "string"
            }
          },
          "metadata": {},
          "execution_count": 96
        }
      ],
      "source": [
        "df.Text.values[0]"
      ]
    },
    {
      "cell_type": "code",
      "execution_count": 97,
      "id": "960aa396-a31e-47f9-96d0-625954158c50",
      "metadata": {
        "id": "960aa396-a31e-47f9-96d0-625954158c50",
        "outputId": "d66d8aed-ac0b-4f4a-ea14-e6d854cde411",
        "colab": {
          "base_uri": "https://localhost:8080/"
        }
      },
      "outputs": [
        {
          "output_type": "stream",
          "name": "stdout",
          "text": [
            "Requirement already satisfied: transformers==4.40.2 in /usr/local/lib/python3.10/dist-packages (4.40.2)\n",
            "Requirement already satisfied: filelock in /usr/local/lib/python3.10/dist-packages (from transformers==4.40.2) (3.14.0)\n",
            "Requirement already satisfied: huggingface-hub<1.0,>=0.19.3 in /usr/local/lib/python3.10/dist-packages (from transformers==4.40.2) (0.20.3)\n",
            "Requirement already satisfied: numpy>=1.17 in /usr/local/lib/python3.10/dist-packages (from transformers==4.40.2) (1.25.2)\n",
            "Requirement already satisfied: packaging>=20.0 in /usr/local/lib/python3.10/dist-packages (from transformers==4.40.2) (24.0)\n",
            "Requirement already satisfied: pyyaml>=5.1 in /usr/local/lib/python3.10/dist-packages (from transformers==4.40.2) (6.0.1)\n",
            "Requirement already satisfied: regex!=2019.12.17 in /usr/local/lib/python3.10/dist-packages (from transformers==4.40.2) (2024.4.28)\n",
            "Requirement already satisfied: requests in /usr/local/lib/python3.10/dist-packages (from transformers==4.40.2) (2.31.0)\n",
            "Requirement already satisfied: tokenizers<0.20,>=0.19 in /usr/local/lib/python3.10/dist-packages (from transformers==4.40.2) (0.19.1)\n",
            "Requirement already satisfied: safetensors>=0.4.1 in /usr/local/lib/python3.10/dist-packages (from transformers==4.40.2) (0.4.3)\n",
            "Requirement already satisfied: tqdm>=4.27 in /usr/local/lib/python3.10/dist-packages (from transformers==4.40.2) (4.66.4)\n",
            "Requirement already satisfied: fsspec>=2023.5.0 in /usr/local/lib/python3.10/dist-packages (from huggingface-hub<1.0,>=0.19.3->transformers==4.40.2) (2024.3.1)\n",
            "Requirement already satisfied: typing-extensions>=3.7.4.3 in /usr/local/lib/python3.10/dist-packages (from huggingface-hub<1.0,>=0.19.3->transformers==4.40.2) (4.11.0)\n",
            "Requirement already satisfied: charset-normalizer<4,>=2 in /usr/local/lib/python3.10/dist-packages (from requests->transformers==4.40.2) (3.3.2)\n",
            "Requirement already satisfied: idna<4,>=2.5 in /usr/local/lib/python3.10/dist-packages (from requests->transformers==4.40.2) (3.7)\n",
            "Requirement already satisfied: urllib3<3,>=1.21.1 in /usr/local/lib/python3.10/dist-packages (from requests->transformers==4.40.2) (2.0.7)\n",
            "Requirement already satisfied: certifi>=2017.4.17 in /usr/local/lib/python3.10/dist-packages (from requests->transformers==4.40.2) (2024.2.2)\n"
          ]
        }
      ],
      "source": [
        "# install transformers\n",
        "!pip install \"transformers ==4.40.2\""
      ]
    },
    {
      "cell_type": "code",
      "execution_count": 98,
      "id": "79a9fd69-9648-4b3c-985a-fdddec592517",
      "metadata": {
        "id": "79a9fd69-9648-4b3c-985a-fdddec592517",
        "outputId": "55a2fc47-5055-406b-9153-79371813c29c",
        "colab": {
          "base_uri": "https://localhost:8080/"
        }
      },
      "outputs": [
        {
          "output_type": "stream",
          "name": "stdout",
          "text": [
            "Requirement already satisfied: sentencepiece==0.2.0 in /usr/local/lib/python3.10/dist-packages (0.2.0)\n"
          ]
        }
      ],
      "source": [
        "!pip install \"sentencepiece==0.2.0\""
      ]
    },
    {
      "cell_type": "code",
      "execution_count": 99,
      "id": "0863910b-2107-463c-8225-7d587eeb663f",
      "metadata": {
        "id": "0863910b-2107-463c-8225-7d587eeb663f"
      },
      "outputs": [],
      "source": [
        "force_download=True"
      ]
    },
    {
      "cell_type": "code",
      "execution_count": 100,
      "id": "ddc0b18d-db5d-44b6-bcc9-185e3513e3c4",
      "metadata": {
        "id": "ddc0b18d-db5d-44b6-bcc9-185e3513e3c4",
        "outputId": "3a5dfcd4-5a0e-464e-d819-27130d70e4d2",
        "colab": {
          "base_uri": "https://localhost:8080/"
        }
      },
      "outputs": [
        {
          "output_type": "execute_result",
          "data": {
            "text/plain": [
              "3"
            ]
          },
          "metadata": {},
          "execution_count": 100
        }
      ],
      "source": [
        "# load tokens\n",
        "from transformers import AutoTokenizer\n",
        "tokenizer = AutoTokenizer.from_pretrained('EMBEDDIA/litlat-bert')\n",
        "# Add words into token\n",
        "tokenizer.add_tokens(['lansberginiai', 'valdžia', 'nuversti'])"
      ]
    },
    {
      "cell_type": "code",
      "execution_count": 101,
      "id": "31982061-ac9c-4a8a-bd9e-b81a9e615f44",
      "metadata": {
        "id": "31982061-ac9c-4a8a-bd9e-b81a9e615f44",
        "outputId": "c0eba32c-132f-48e1-fe34-866a31a94d1b",
        "colab": {
          "base_uri": "https://localhost:8080/"
        }
      },
      "outputs": [
        {
          "output_type": "stream",
          "name": "stdout",
          "text": [
            "['lansberginiai']\n",
            "['valdžia']\n",
            "['nuversti']\n"
          ]
        }
      ],
      "source": [
        "print(tokenizer.tokenize('lansberginiai'))\n",
        "print(tokenizer.tokenize('valdžia'))\n",
        "print(tokenizer.tokenize('nuversti'))"
      ]
    },
    {
      "cell_type": "code",
      "execution_count": 102,
      "id": "a5bc9485-e20b-4953-97e6-3e772684f2e1",
      "metadata": {
        "id": "a5bc9485-e20b-4953-97e6-3e772684f2e1",
        "outputId": "2605b4a7-822e-45e5-cfa2-f536ad2d8f3e",
        "colab": {
          "base_uri": "https://localhost:8080/",
          "height": 35
        }
      },
      "outputs": [
        {
          "output_type": "execute_result",
          "data": {
            "text/plain": [
              "'kada ateis toki valdze kai tuos kenkejus gales susodint i kaliuze su turta konfiskavimu  turbut niekada'"
            ],
            "application/vnd.google.colaboratory.intrinsic+json": {
              "type": "string"
            }
          },
          "metadata": {},
          "execution_count": 102
        }
      ],
      "source": [
        "df.Text.values[0]"
      ]
    },
    {
      "cell_type": "code",
      "execution_count": 103,
      "id": "10633aaf-b68c-4ad6-9e3b-2faecad8aa1f",
      "metadata": {
        "id": "10633aaf-b68c-4ad6-9e3b-2faecad8aa1f",
        "outputId": "80ed45c6-71b2-4b79-9c3c-3b2eb3b360a2",
        "colab": {
          "base_uri": "https://localhost:8080/"
        }
      },
      "outputs": [
        {
          "output_type": "stream",
          "name": "stdout",
          "text": [
            "{'kada': [2579], 'ateis': [20625], 'toki': [28740], 'valdze': [1398, 1810], 'kai': [226], 'tuos': [3814], 'kenkejus': [27539, 25341], 'gales': [564, 61], 'susodint': [2111, 406, 818], 'i': [513], 'kaliuze': [1640, 224, 1810], 'su': [48], 'turta': [520, 166], 'konfiskavimu': [34432, 6379], 'turbut': [41101], 'niekada': [3941]}\n"
          ]
        }
      ],
      "source": [
        "print({x : tokenizer.encode(x, add_special_tokens=False) for x in df.Text.values[0].split()})"
      ]
    },
    {
      "cell_type": "code",
      "execution_count": 104,
      "id": "5634e848-6a68-48fa-95d3-f44ef1fe275e",
      "metadata": {
        "id": "5634e848-6a68-48fa-95d3-f44ef1fe275e",
        "outputId": "b267b9e2-95d3-4deb-f4d8-ba330d80e7aa",
        "colab": {
          "base_uri": "https://localhost:8080/"
        }
      },
      "outputs": [
        {
          "output_type": "execute_result",
          "data": {
            "text/plain": [
              "[0,\n",
              " 2579,\n",
              " 20625,\n",
              " 28740,\n",
              " 1398,\n",
              " 1810,\n",
              " 226,\n",
              " 3814,\n",
              " 27539,\n",
              " 25341,\n",
              " 564,\n",
              " 61,\n",
              " 2111,\n",
              " 406,\n",
              " 818,\n",
              " 513,\n",
              " 1640,\n",
              " 224,\n",
              " 1810,\n",
              " 48,\n",
              " 520,\n",
              " 166,\n",
              " 34432,\n",
              " 6379,\n",
              " 41101,\n",
              " 3941,\n",
              " 2]"
            ]
          },
          "metadata": {},
          "execution_count": 104
        }
      ],
      "source": [
        "tokenizer(df.Text.values[0])['input_ids']"
      ]
    },
    {
      "cell_type": "code",
      "execution_count": 105,
      "id": "0cc696c3-909e-4f3c-990c-5ce1c76da716",
      "metadata": {
        "id": "0cc696c3-909e-4f3c-990c-5ce1c76da716",
        "outputId": "fd86afb9-23ea-4f57-83c0-fc4b1e0469a8",
        "colab": {
          "base_uri": "https://localhost:8080/",
          "height": 1000
        }
      },
      "outputs": [
        {
          "output_type": "stream",
          "name": "stdout",
          "text": [
            "Requirement already satisfied: matplotlib in /usr/local/lib/python3.10/dist-packages (3.7.1)\n",
            "Requirement already satisfied: contourpy>=1.0.1 in /usr/local/lib/python3.10/dist-packages (from matplotlib) (1.2.1)\n",
            "Requirement already satisfied: cycler>=0.10 in /usr/local/lib/python3.10/dist-packages (from matplotlib) (0.12.1)\n",
            "Requirement already satisfied: fonttools>=4.22.0 in /usr/local/lib/python3.10/dist-packages (from matplotlib) (4.51.0)\n",
            "Requirement already satisfied: kiwisolver>=1.0.1 in /usr/local/lib/python3.10/dist-packages (from matplotlib) (1.4.5)\n",
            "Requirement already satisfied: numpy>=1.20 in /usr/local/lib/python3.10/dist-packages (from matplotlib) (1.25.2)\n",
            "Requirement already satisfied: packaging>=20.0 in /usr/local/lib/python3.10/dist-packages (from matplotlib) (24.0)\n",
            "Requirement already satisfied: pillow>=6.2.0 in /usr/local/lib/python3.10/dist-packages (from matplotlib) (10.3.0)\n",
            "Requirement already satisfied: pyparsing>=2.3.1 in /usr/local/lib/python3.10/dist-packages (from matplotlib) (3.1.2)\n",
            "Requirement already satisfied: python-dateutil>=2.7 in /usr/local/lib/python3.10/dist-packages (from matplotlib) (2.9.0.post0)\n",
            "Requirement already satisfied: six>=1.5 in /usr/local/lib/python3.10/dist-packages (from python-dateutil>=2.7->matplotlib) (1.16.0)\n",
            "max:  570\n",
            "min:  3\n"
          ]
        },
        {
          "output_type": "execute_result",
          "data": {
            "text/plain": [
              "(array([  0., 100., 200., 300., 400., 500., 600., 700., 800., 900.]),\n",
              " [Text(0, 0.0, '0'),\n",
              "  Text(0, 100.0, '100'),\n",
              "  Text(0, 200.0, '200'),\n",
              "  Text(0, 300.0, '300'),\n",
              "  Text(0, 400.0, '400'),\n",
              "  Text(0, 500.0, '500'),\n",
              "  Text(0, 600.0, '600'),\n",
              "  Text(0, 700.0, '700'),\n",
              "  Text(0, 800.0, '800'),\n",
              "  Text(0, 900.0, '900')])"
            ]
          },
          "metadata": {},
          "execution_count": 105
        },
        {
          "output_type": "display_data",
          "data": {
            "text/plain": [
              "<Figure size 2000x800 with 1 Axes>"
            ],
            "image/png": "[encoded data removed]"
          },
          "metadata": {}
        }
      ],
      "source": [
        "# install matplotlib\n",
        "!pip install matplotlib\n",
        "# tokenize the text feature\n",
        "tokenized_feature_raw = tokenizer.batch_encode_plus(\n",
        "                            # Sentences to encode\n",
        "                            df.Text.values.tolist(),\n",
        "                            # Add '[CLS]' and '[SEP]'\n",
        "                            add_special_tokens = True\n",
        "                   )\n",
        "# collect tokenized sentence length\n",
        "token_sentence_length = [len(x) for x in tokenized_feature_raw['input_ids']]\n",
        "print('max: ', max(token_sentence_length))\n",
        "print('min: ', min(token_sentence_length))\n",
        "# plot the distribution\n",
        "import matplotlib.pyplot as plt\n",
        "plt.figure(figsize=(20, 8))\n",
        "plt.hist(token_sentence_length, rwidth = 0.9)\n",
        "plt.xlabel('Sequence Length', fontsize = 18)\n",
        "plt.ylabel('# of Samples', fontsize = 18)\n",
        "plt.xticks(fontsize = 14)\n",
        "plt.yticks(fontsize = 14)"
      ]
    },
    {
      "cell_type": "code",
      "execution_count": 106,
      "id": "16296281-6685-431b-b1d2-3a0e59cc0705",
      "metadata": {
        "id": "16296281-6685-431b-b1d2-3a0e59cc0705"
      },
      "outputs": [],
      "source": [
        "# identify features and target\n",
        "features = df.Text.values.tolist()\n",
        "target = df.Flag.values.tolist()"
      ]
    },
    {
      "cell_type": "code",
      "execution_count": 107,
      "id": "ac906f5e-d679-4e2c-b841-b8c2e5fc3819",
      "metadata": {
        "id": "ac906f5e-d679-4e2c-b841-b8c2e5fc3819"
      },
      "outputs": [],
      "source": [
        "# tokenize features\n",
        "MAX_LEN = 491\n",
        "tokenized_feature = tokenizer.batch_encode_plus(\n",
        "                            # Sentences to encode\n",
        "                            features,\n",
        "                            # Add '[CLS]' and '[SEP]'\n",
        "                            add_special_tokens = True,\n",
        "                            # Add empty tokens if len(text)<MAX_LEN\n",
        "                            padding = 'max_length',\n",
        "                            # Truncate all sentences to max length\n",
        "                            truncation=True,\n",
        "                            # Set the maximum length\n",
        "                            max_length = MAX_LEN,\n",
        "                            # Return attention mask\n",
        "                            return_attention_mask = True,\n",
        "                            # Return pytorch tensors\n",
        "                            return_tensors = 'pt'\n",
        "                   )"
      ]
    },
    {
      "cell_type": "code",
      "execution_count": 108,
      "id": "fffa3459-904c-4716-98ab-44ccb3f13265",
      "metadata": {
        "id": "fffa3459-904c-4716-98ab-44ccb3f13265",
        "outputId": "4c909ab4-e371-488b-8b77-1175318f45ae",
        "colab": {
          "base_uri": "https://localhost:8080/"
        }
      },
      "outputs": [
        {
          "output_type": "stream",
          "name": "stdout",
          "text": [
            "Requirement already satisfied: scikit-learn in /usr/local/lib/python3.10/dist-packages (1.2.2)\n",
            "Requirement already satisfied: numpy>=1.17.3 in /usr/local/lib/python3.10/dist-packages (from scikit-learn) (1.25.2)\n",
            "Requirement already satisfied: scipy>=1.3.2 in /usr/local/lib/python3.10/dist-packages (from scikit-learn) (1.11.4)\n",
            "Requirement already satisfied: joblib>=1.1.1 in /usr/local/lib/python3.10/dist-packages (from scikit-learn) (1.4.2)\n",
            "Requirement already satisfied: threadpoolctl>=2.0.0 in /usr/local/lib/python3.10/dist-packages (from scikit-learn) (3.5.0)\n"
          ]
        }
      ],
      "source": [
        "# install sklearn\n",
        "!pip install scikit-learn\n",
        "# convert label into numeric\n",
        "from sklearn.preprocessing import LabelEncoder\n",
        "le = LabelEncoder()\n",
        "le.fit(target)\n",
        "target_num = le.transform(target)"
      ]
    },
    {
      "cell_type": "code",
      "execution_count": 109,
      "id": "639d6ec1-14b6-46e5-8cac-5316a8ef1603",
      "metadata": {
        "id": "639d6ec1-14b6-46e5-8cac-5316a8ef1603",
        "outputId": "61e6a22e-f398-4681-c7b1-40a5e47526b1",
        "colab": {
          "base_uri": "https://localhost:8080/"
        }
      },
      "outputs": [
        {
          "output_type": "execute_result",
          "data": {
            "text/plain": [
              "array([1, 1, 1, ..., 0, 0, 0])"
            ]
          },
          "metadata": {},
          "execution_count": 109
        }
      ],
      "source": [
        "target_num"
      ]
    },
    {
      "cell_type": "code",
      "execution_count": 110,
      "id": "361bf28c-f62b-4407-821a-f662aedfa424",
      "metadata": {
        "id": "361bf28c-f62b-4407-821a-f662aedfa424"
      },
      "outputs": [],
      "source": [
        "# Use 80% for training and 20% for validation\n",
        "from sklearn.model_selection import train_test_split\n",
        "train_inputs, validation_inputs, train_labels, validation_labels, train_masks, validation_masks = train_test_split(tokenized_feature['input_ids'],\n",
        "                                                                                                             target_num,\n",
        "                                                                                                                    tokenized_feature['attention_mask'],\n",
        "                                                                                                      random_state=2018, test_size=0.2, stratify=target)"
      ]
    },
    {
      "cell_type": "code",
      "execution_count": 111,
      "id": "c4aa7032-d7e2-48ff-a247-b9cfed4e95d2",
      "metadata": {
        "id": "c4aa7032-d7e2-48ff-a247-b9cfed4e95d2"
      },
      "outputs": [],
      "source": [
        "# define batch_size\n",
        "batch_size = 16\n",
        "# Create the DataLoader for our training set\n",
        "train_data = TensorDataset(train_inputs, train_masks, torch.tensor(train_labels))\n",
        "train_sampler = RandomSampler(train_data)\n",
        "train_dataloader = DataLoader(train_data, sampler=train_sampler, batch_size=batch_size)\n",
        "# Create the DataLoader for our test set\n",
        "validation_data = TensorDataset(validation_inputs, validation_masks, torch.tensor(validation_labels))\n",
        "validation_sampler = SequentialSampler(validation_data)\n",
        "validation_dataloader = DataLoader(validation_data, sampler=validation_sampler, batch_size=batch_size)"
      ]
    },
    {
      "cell_type": "code",
      "execution_count": 112,
      "id": "c3cfc210-e875-4c63-bc8e-8117966dfe81",
      "metadata": {
        "id": "c3cfc210-e875-4c63-bc8e-8117966dfe81"
      },
      "outputs": [],
      "source": [
        "force_download=True"
      ]
    },
    {
      "cell_type": "code",
      "execution_count": 113,
      "id": "5efec1ad-8f4e-4032-8553-5e35bb8f5690",
      "metadata": {
        "id": "5efec1ad-8f4e-4032-8553-5e35bb8f5690",
        "outputId": "5d8a7f75-9d22-42a3-89d2-4c555851f434",
        "colab": {
          "base_uri": "https://localhost:8080/"
        }
      },
      "outputs": [
        {
          "output_type": "stream",
          "name": "stderr",
          "text": [
            "Some weights of XLMRobertaForSequenceClassification were not initialized from the model checkpoint at EMBEDDIA/litlat-bert and are newly initialized: ['classifier.dense.bias', 'classifier.dense.weight', 'classifier.out_proj.bias', 'classifier.out_proj.weight']\n",
            "You should probably TRAIN this model on a down-stream task to be able to use it for predictions and inference.\n"
          ]
        }
      ],
      "source": [
        "# BertForSequenceClassification\n",
        "from transformers import XLMRobertaForSequenceClassification, AdamW, get_linear_schedule_with_warmup\n",
        "model = XLMRobertaForSequenceClassification.from_pretrained(\n",
        "    \"EMBEDDIA/litlat-bert\",\n",
        "    # Specify number of classes\n",
        "    num_labels = len(set(target)),\n",
        "    # Whether the model returns attentions weights\n",
        "    output_attentions = False,\n",
        "    # Whether the model returns all hidden-states\n",
        "    output_hidden_states = False\n",
        ")"
      ]
    },
    {
      "cell_type": "code",
      "execution_count": 114,
      "id": "e8ecd608-5747-48c5-99eb-3c76a3e1b982",
      "metadata": {
        "id": "e8ecd608-5747-48c5-99eb-3c76a3e1b982",
        "outputId": "89b1c290-02d0-4e58-9fba-7819bdd44bf9",
        "colab": {
          "base_uri": "https://localhost:8080/"
        }
      },
      "outputs": [
        {
          "output_type": "execute_result",
          "data": {
            "text/plain": [
              "Embedding(84201, 768, padding_idx=1)"
            ]
          },
          "metadata": {},
          "execution_count": 114
        }
      ],
      "source": [
        "model.resize_token_embeddings(len(tokenizer))"
      ]
    },
    {
      "cell_type": "code",
      "execution_count": 115,
      "id": "3d312ab6-dea6-4055-99d1-702d1ffce131",
      "metadata": {
        "id": "3d312ab6-dea6-4055-99d1-702d1ffce131",
        "outputId": "ca5f9d3b-4c96-4cdd-a081-efd6ab4e2cfc",
        "colab": {
          "base_uri": "https://localhost:8080/"
        }
      },
      "outputs": [
        {
          "output_type": "stream",
          "name": "stderr",
          "text": [
            "/usr/local/lib/python3.10/dist-packages/transformers/optimization.py:521: FutureWarning: This implementation of AdamW is deprecated and will be removed in a future version. Use the PyTorch implementation torch.optim.AdamW instead, or set `no_deprecation_warning=True` to disable this warning\n",
            "  warnings.warn(\n"
          ]
        }
      ],
      "source": [
        "# Optimizer & Learning Rate Scheduler\n",
        "optimizer = AdamW(model.parameters(),\n",
        "                  lr = 2e-5,\n",
        "                  eps = 1e-8\n",
        "                )"
      ]
    },
    {
      "cell_type": "code",
      "execution_count": 116,
      "id": "f0470c6f-2942-4b51-9af6-a1f59c695f9b",
      "metadata": {
        "id": "f0470c6f-2942-4b51-9af6-a1f59c695f9b"
      },
      "outputs": [],
      "source": [
        "# Number of training epochs\n",
        "epochs = 4\n",
        "# Total number of training steps is number of batches * number of epochs.\n",
        "total_steps = len(train_dataloader) * epochs\n",
        "# Create the learning rate scheduler\n",
        "scheduler = get_linear_schedule_with_warmup(optimizer,\n",
        "                                            num_warmup_steps = 0,\n",
        "                                            num_training_steps = total_steps)"
      ]
    },
    {
      "cell_type": "code",
      "execution_count": 117,
      "id": "e307d199-d2b4-475a-ae7d-c6c6c54f987d",
      "metadata": {
        "id": "e307d199-d2b4-475a-ae7d-c6c6c54f987d",
        "outputId": "8d408e79-db08-406b-e5d4-1acbb358e9e6",
        "colab": {
          "base_uri": "https://localhost:8080/"
        }
      },
      "outputs": [
        {
          "output_type": "execute_result",
          "data": {
            "text/plain": [
              "XLMRobertaForSequenceClassification(\n",
              "  (roberta): XLMRobertaModel(\n",
              "    (embeddings): XLMRobertaEmbeddings(\n",
              "      (word_embeddings): Embedding(84201, 768, padding_idx=1)\n",
              "      (position_embeddings): Embedding(514, 768, padding_idx=1)\n",
              "      (token_type_embeddings): Embedding(1, 768)\n",
              "      (LayerNorm): LayerNorm((768,), eps=1e-05, elementwise_affine=True)\n",
              "      (dropout): Dropout(p=0.1, inplace=False)\n",
              "    )\n",
              "    (encoder): XLMRobertaEncoder(\n",
              "      (layer): ModuleList(\n",
              "        (0-11): 12 x XLMRobertaLayer(\n",
              "          (attention): XLMRobertaAttention(\n",
              "            (self): XLMRobertaSelfAttention(\n",
              "              (query): Linear(in_features=768, out_features=768, bias=True)\n",
              "              (key): Linear(in_features=768, out_features=768, bias=True)\n",
              "              (value): Linear(in_features=768, out_features=768, bias=True)\n",
              "              (dropout): Dropout(p=0.1, inplace=False)\n",
              "            )\n",
              "            (output): XLMRobertaSelfOutput(\n",
              "              (dense): Linear(in_features=768, out_features=768, bias=True)\n",
              "              (LayerNorm): LayerNorm((768,), eps=1e-05, elementwise_affine=True)\n",
              "              (dropout): Dropout(p=0.1, inplace=False)\n",
              "            )\n",
              "          )\n",
              "          (intermediate): XLMRobertaIntermediate(\n",
              "            (dense): Linear(in_features=768, out_features=3072, bias=True)\n",
              "            (intermediate_act_fn): GELUActivation()\n",
              "          )\n",
              "          (output): XLMRobertaOutput(\n",
              "            (dense): Linear(in_features=3072, out_features=768, bias=True)\n",
              "            (LayerNorm): LayerNorm((768,), eps=1e-05, elementwise_affine=True)\n",
              "            (dropout): Dropout(p=0.1, inplace=False)\n",
              "          )\n",
              "        )\n",
              "      )\n",
              "    )\n",
              "  )\n",
              "  (classifier): XLMRobertaClassificationHead(\n",
              "    (dense): Linear(in_features=768, out_features=768, bias=True)\n",
              "    (dropout): Dropout(p=0.1, inplace=False)\n",
              "    (out_proj): Linear(in_features=768, out_features=2, bias=True)\n",
              "  )\n",
              ")"
            ]
          },
          "metadata": {},
          "execution_count": 117
        }
      ],
      "source": [
        "model.to(device)"
      ]
    },
    {
      "cell_type": "code",
      "execution_count": 118,
      "id": "db765322-de0e-4f5f-9a37-01821834130a",
      "metadata": {
        "id": "db765322-de0e-4f5f-9a37-01821834130a",
        "outputId": "c9d7763d-c03a-4331-b98e-c236f31a0b08",
        "colab": {
          "base_uri": "https://localhost:8080/"
        }
      },
      "outputs": [
        {
          "output_type": "stream",
          "name": "stdout",
          "text": [
            "total steps per epoch:  3.1875\n",
            "training on epoch:  0\n",
            "training on step:  50\n",
            "total time used is: 130.64 s\n",
            "average training loss: 0.70\n",
            "training on epoch:  1\n",
            "training on step:  50\n",
            "total time used is: 130.68 s\n",
            "average training loss: 0.70\n",
            "training on epoch:  2\n",
            "training on step:  50\n",
            "total time used is: 133.54 s\n",
            "average training loss: 0.70\n",
            "training on epoch:  3\n",
            "training on step:  50\n",
            "total time used is: 129.64 s\n",
            "average training loss: 0.70\n"
          ]
        }
      ],
      "source": [
        "\n",
        "import time\n",
        "# Store the average loss after each epoch\n",
        "loss_values = []\n",
        "# number of total steps for each epoch\n",
        "print('total steps per epoch: ',  len(train_dataloader) / batch_size)\n",
        "# looping over epochs\n",
        "for epoch_i in range(0, epochs):\n",
        "\n",
        "    print('training on epoch: ', epoch_i)\n",
        "    # set start time\n",
        "    t0 = time.time()\n",
        "    # reset total loss\n",
        "    total_loss = 0\n",
        "    # model in training\n",
        "    model.train()\n",
        "    # loop through batch\n",
        "    for step, batch in enumerate(train_dataloader):\n",
        "        # Progress update every 50 step\n",
        "        if step % 50 == 0 and not step == 0:\n",
        "            print('training on step: ', step)\n",
        "            print('total time used is: {0:.2f} s'.format(time.time() - t0))\n",
        "        # load data from dataloader\n",
        "        b_input_ids = batch[0].to(device)\n",
        "        b_input_mask = batch[1].to(device)\n",
        "        b_labels = batch[2].to(device)\n",
        "        # clear any previously calculated gradients\n",
        "        model.zero_grad()\n",
        "        # get outputs\n",
        "        outputs = model(b_input_ids,\n",
        "                        token_type_ids=None,\n",
        "                        attention_mask=b_input_mask,\n",
        "                        labels=b_labels)\n",
        "        # get loss\n",
        "        loss = outputs[0]\n",
        "        # total loss\n",
        "        total_loss += loss.item()\n",
        "        # clip the norm of the gradients to 1.0.\n",
        "        torch.nn.utils.clip_grad_norm_(model.parameters(), 1.0)\n",
        "        # update optimizer\n",
        "        optimizer.step()\n",
        "        # update learning rate\n",
        "        scheduler.step()\n",
        "    # Calculate the average loss over the training data.\n",
        "    avg_train_loss = total_loss / len(train_dataloader)\n",
        "    # Store the loss value for plotting the learning curve.\n",
        "    loss_values.append(avg_train_loss)\n",
        "    print(\"average training loss: {0:.2f}\".format(avg_train_loss))"
      ]
    },
    {
      "cell_type": "code",
      "source": [
        "# Test\n",
        "import numpy as np\n",
        "t0 = time.time()\n",
        "# model in validation mode\n",
        "model.eval()\n",
        "# save prediction\n",
        "predictions,true_labels =[],[]\n",
        "# evaluate data for one epoch\n",
        "for batch in validation_dataloader:\n",
        "    # Add batch to GPU\n",
        "    batch = tuple(t.to(device) for t in batch)\n",
        "    # Unpack the inputs from our dataloader\n",
        "    b_input_ids, b_input_mask, b_labels = batch\n",
        "    # validation\n",
        "    with torch.no_grad():\n",
        "        outputs = model(b_input_ids,\n",
        "                        token_type_ids=None,\n",
        "                        attention_mask=b_input_mask)\n",
        "    # get output\n",
        "    logits = outputs[0]\n",
        "    # move logits and labels to CPU\n",
        "    logits = logits.detach().cpu().numpy()\n",
        "    label_ids = b_labels.to('cpu').numpy()\n",
        "    final_prediction = np.argmax(logits, axis=-1).flatten()\n",
        "    predictions.append(final_prediction)\n",
        "    true_labels.append(label_ids)\n",
        "\n",
        "print('total time used is: {0:.2f} s'.format(time.time() - t0))"
      ],
      "metadata": {
        "colab": {
          "base_uri": "https://localhost:8080/"
        },
        "id": "9pFqCsRkoDu3",
        "outputId": "561872bc-4086-4c9e-c15b-473c1d831562"
      },
      "id": "9pFqCsRkoDu3",
      "execution_count": 119,
      "outputs": [
        {
          "output_type": "stream",
          "name": "stdout",
          "text": [
            "total time used is: 11.55 s\n"
          ]
        }
      ]
    },
    {
      "cell_type": "code",
      "source": [
        "predictions"
      ],
      "metadata": {
        "colab": {
          "base_uri": "https://localhost:8080/"
        },
        "id": "VfGF3aqqshA2",
        "outputId": "c8dbb311-740a-4f7d-c3db-7505c63bc17f"
      },
      "id": "VfGF3aqqshA2",
      "execution_count": 120,
      "outputs": [
        {
          "output_type": "execute_result",
          "data": {
            "text/plain": [
              "[array([0, 0, 0, 0, 0, 0, 0, 0, 1, 0, 1, 0, 0, 0, 1, 1]),\n",
              " array([0, 1, 0, 0, 0, 1, 0, 0, 1, 0, 0, 0, 1, 0, 1, 0]),\n",
              " array([0, 0, 0, 0, 0, 0, 0, 0, 0, 0, 0, 1, 0, 0, 0, 0]),\n",
              " array([0, 0, 0, 1, 0, 0, 0, 1, 1, 1, 1, 0, 0, 0, 0, 0]),\n",
              " array([1, 1, 1, 1, 0, 0, 0, 0, 0, 0, 0, 0, 1, 0, 1, 1]),\n",
              " array([0, 0, 0, 0, 0, 0, 0, 0, 0, 1, 0, 0, 0, 1, 0, 1]),\n",
              " array([1, 0, 0, 0, 0, 1, 0, 0, 0, 1, 0, 0, 0, 0, 0, 1]),\n",
              " array([0, 1, 0, 0, 0, 0, 1, 0, 0, 0, 1, 0, 1, 0, 0, 0]),\n",
              " array([1, 0, 0, 0, 0, 1, 0, 1, 0, 0, 1, 0, 0, 0, 0, 0]),\n",
              " array([0, 0, 0, 0, 0, 1, 0, 1, 0, 0, 0, 0, 0, 0, 0, 0]),\n",
              " array([1, 1, 0, 0, 0, 0, 1, 0, 0, 0, 0, 0, 1, 0, 1, 0]),\n",
              " array([0, 1, 0, 0, 0, 0, 0, 0, 0, 0, 0, 0, 1, 1, 0, 0]),\n",
              " array([0, 0, 0, 1, 0, 0, 1, 0, 0, 0, 1])]"
            ]
          },
          "metadata": {},
          "execution_count": 120
        }
      ]
    },
    {
      "cell_type": "code",
      "source": [
        "# convert numeric label to string\n",
        "final_prediction_list = le.inverse_transform(np.concatenate(predictions))\n",
        "final_truelabel_list = le.inverse_transform(np.concatenate(true_labels))"
      ],
      "metadata": {
        "id": "ajIGC9D2shQp"
      },
      "id": "ajIGC9D2shQp",
      "execution_count": 121,
      "outputs": []
    },
    {
      "cell_type": "code",
      "source": [
        "final_prediction_list"
      ],
      "metadata": {
        "colab": {
          "base_uri": "https://localhost:8080/"
        },
        "id": "ysHAMvMFshXe",
        "outputId": "d11b8124-4796-4ac8-f732-4a64fcaa25e4"
      },
      "id": "ysHAMvMFshXe",
      "execution_count": 122,
      "outputs": [
        {
          "output_type": "execute_result",
          "data": {
            "text/plain": [
              "array([0, 0, 0, 0, 0, 0, 0, 0, 1, 0, 1, 0, 0, 0, 1, 1, 0, 1, 0, 0, 0, 1,\n",
              "       0, 0, 1, 0, 0, 0, 1, 0, 1, 0, 0, 0, 0, 0, 0, 0, 0, 0, 0, 0, 0, 1,\n",
              "       0, 0, 0, 0, 0, 0, 0, 1, 0, 0, 0, 1, 1, 1, 1, 0, 0, 0, 0, 0, 1, 1,\n",
              "       1, 1, 0, 0, 0, 0, 0, 0, 0, 0, 1, 0, 1, 1, 0, 0, 0, 0, 0, 0, 0, 0,\n",
              "       0, 1, 0, 0, 0, 1, 0, 1, 1, 0, 0, 0, 0, 1, 0, 0, 0, 1, 0, 0, 0, 0,\n",
              "       0, 1, 0, 1, 0, 0, 0, 0, 1, 0, 0, 0, 1, 0, 1, 0, 0, 0, 1, 0, 0, 0,\n",
              "       0, 1, 0, 1, 0, 0, 1, 0, 0, 0, 0, 0, 0, 0, 0, 0, 0, 1, 0, 1, 0, 0,\n",
              "       0, 0, 0, 0, 0, 0, 1, 1, 0, 0, 0, 0, 1, 0, 0, 0, 0, 0, 1, 0, 1, 0,\n",
              "       0, 1, 0, 0, 0, 0, 0, 0, 0, 0, 0, 0, 1, 1, 0, 0, 0, 0, 0, 1, 0, 0,\n",
              "       1, 0, 0, 0, 1])"
            ]
          },
          "metadata": {},
          "execution_count": 122
        }
      ]
    },
    {
      "cell_type": "code",
      "source": [
        "from sklearn.metrics import confusion_matrix, classification_report\n",
        "cr = classification_report(final_truelabel_list,\n",
        "                           final_prediction_list,\n",
        "                           output_dict=False)\n",
        "print(cr)"
      ],
      "metadata": {
        "colab": {
          "base_uri": "https://localhost:8080/"
        },
        "id": "trJ2_R-IssAu",
        "outputId": "173bbca6-dbf0-4b24-ea10-dc1cc3a9b682"
      },
      "id": "trJ2_R-IssAu",
      "execution_count": 123,
      "outputs": [
        {
          "output_type": "stream",
          "name": "stdout",
          "text": [
            "              precision    recall  f1-score   support\n",
            "\n",
            "           0       0.43      0.74      0.55        89\n",
            "           1       0.54      0.24      0.33       114\n",
            "\n",
            "    accuracy                           0.46       203\n",
            "   macro avg       0.49      0.49      0.44       203\n",
            "weighted avg       0.49      0.46      0.42       203\n",
            "\n"
          ]
        }
      ]
    },
    {
      "cell_type": "code",
      "source": [
        "# install seaborn\n",
        "!pip install seaborn\n",
        "# print cm heatmap\n",
        "import seaborn as sns\n",
        "# return class label\n",
        "class_label = np.unique(final_truelabel_list)\n",
        "# get confusion matrix\n",
        "cm = confusion_matrix(final_truelabel_list,\n",
        "                      final_prediction_list)\n",
        "# covert it to dataframe for plotting\n",
        "cm_df = pd.DataFrame(cm,\n",
        "                     index = class_label,\n",
        "                     columns = class_label)\n",
        "# plot it\n",
        "plt.figure(figsize = (10,8))\n",
        "g = sns.heatmap(cm_df, cmap = 'hot_r', annot=True, fmt='g')\n",
        "g.xaxis.set_ticks_position(\"top\")\n",
        "g.tick_params(axis='x', rotation=90)\n",
        "g.set_xlabel(\"True Sentiment Label\")\n",
        "g.set_ylabel(\"Predicted Sentiment Label\")"
      ],
      "metadata": {
        "colab": {
          "base_uri": "https://localhost:8080/",
          "height": 969
        },
        "id": "vbyk0sibssDM",
        "outputId": "ee0c13d8-63d5-4364-8e8b-7c3ebfd299fe"
      },
      "id": "vbyk0sibssDM",
      "execution_count": 124,
      "outputs": [
        {
          "output_type": "stream",
          "name": "stdout",
          "text": [
            "Requirement already satisfied: seaborn in /usr/local/lib/python3.10/dist-packages (0.13.1)\n",
            "Requirement already satisfied: numpy!=1.24.0,>=1.20 in /usr/local/lib/python3.10/dist-packages (from seaborn) (1.25.2)\n",
            "Requirement already satisfied: pandas>=1.2 in /usr/local/lib/python3.10/dist-packages (from seaborn) (2.0.3)\n",
            "Requirement already satisfied: matplotlib!=3.6.1,>=3.4 in /usr/local/lib/python3.10/dist-packages (from seaborn) (3.7.1)\n",
            "Requirement already satisfied: contourpy>=1.0.1 in /usr/local/lib/python3.10/dist-packages (from matplotlib!=3.6.1,>=3.4->seaborn) (1.2.1)\n",
            "Requirement already satisfied: cycler>=0.10 in /usr/local/lib/python3.10/dist-packages (from matplotlib!=3.6.1,>=3.4->seaborn) (0.12.1)\n",
            "Requirement already satisfied: fonttools>=4.22.0 in /usr/local/lib/python3.10/dist-packages (from matplotlib!=3.6.1,>=3.4->seaborn) (4.51.0)\n",
            "Requirement already satisfied: kiwisolver>=1.0.1 in /usr/local/lib/python3.10/dist-packages (from matplotlib!=3.6.1,>=3.4->seaborn) (1.4.5)\n",
            "Requirement already satisfied: packaging>=20.0 in /usr/local/lib/python3.10/dist-packages (from matplotlib!=3.6.1,>=3.4->seaborn) (24.0)\n",
            "Requirement already satisfied: pillow>=6.2.0 in /usr/local/lib/python3.10/dist-packages (from matplotlib!=3.6.1,>=3.4->seaborn) (10.3.0)\n",
            "Requirement already satisfied: pyparsing>=2.3.1 in /usr/local/lib/python3.10/dist-packages (from matplotlib!=3.6.1,>=3.4->seaborn) (3.1.2)\n",
            "Requirement already satisfied: python-dateutil>=2.7 in /usr/local/lib/python3.10/dist-packages (from matplotlib!=3.6.1,>=3.4->seaborn) (2.9.0.post0)\n",
            "Requirement already satisfied: pytz>=2020.1 in /usr/local/lib/python3.10/dist-packages (from pandas>=1.2->seaborn) (2024.1)\n",
            "Requirement already satisfied: tzdata>=2022.1 in /usr/local/lib/python3.10/dist-packages (from pandas>=1.2->seaborn) (2024.1)\n",
            "Requirement already satisfied: six>=1.5 in /usr/local/lib/python3.10/dist-packages (from python-dateutil>=2.7->matplotlib!=3.6.1,>=3.4->seaborn) (1.16.0)\n"
          ]
        },
        {
          "output_type": "execute_result",
          "data": {
            "text/plain": [
              "Text(95.72222222222221, 0.5, 'Predicted Sentiment Label')"
            ]
          },
          "metadata": {},
          "execution_count": 124
        },
        {
          "output_type": "display_data",
          "data": {
            "text/plain": [
              "<Figure size 1000x800 with 2 Axes>"
            ],
            "image/png": "[encoded data removed]"
          },
          "metadata": {}
        }
      ]
    }
  ],
  "metadata": {
    "kernelspec": {
      "display_name": "Python 3",
      "name": "python3"
    },
    "language_info": {
      "name": "python"
    },
    "colab": {
      "provenance": [],
      "gpuType": "V28",
      "include_colab_link": true
    },
    "accelerator": "TPU"
  },
  "nbformat": 4,
  "nbformat_minor": 5
}